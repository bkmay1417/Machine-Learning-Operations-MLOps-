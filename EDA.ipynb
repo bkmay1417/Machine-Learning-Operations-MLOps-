{
 "cells": [
  {
   "cell_type": "code",
   "execution_count": 49,
   "metadata": {},
   "outputs": [],
   "source": [
    "import pyarrow.parquet as pq\n",
    "import pandas as pd\n",
    "import numpy as np\n",
    "import seaborn as sns\n",
    "import matplotlib.pyplot as plt\n",
    "import scipy.stats as stats \n",
    "import gzip\n",
    "import ast\n",
    "from textblob import TextBlob"
   ]
  },
  {
   "cell_type": "markdown",
   "metadata": {},
   "source": [
    "Cargo los datos"
   ]
  },
  {
   "cell_type": "code",
   "execution_count": 2,
   "metadata": {},
   "outputs": [],
   "source": [
    "\n",
    "\n",
    "# Abre el archivo comprimido y carga los datos JSON\n",
    "with gzip.open(\"steam_games.json.gz\", 'rt', encoding='utf-8') as archivo_comprimido:\n",
    "    # Carga los datos JSON en un DataFrame\n",
    "    games = pd.read_json(archivo_comprimido, lines=True)\n",
    "reviews = pd.read_parquet('user_reviews.parquet')\n",
    "item = pd.read_parquet('australian_users_items.parquet')"
   ]
  },
  {
   "cell_type": "markdown",
   "metadata": {},
   "source": [
    "## EDA  steam_games:"
   ]
  },
  {
   "cell_type": "markdown",
   "metadata": {},
   "source": [
    "Vemos un primer viztazo a los datos, las primeras y ultimas filas:"
   ]
  },
  {
   "cell_type": "code",
   "execution_count": 7,
   "metadata": {},
   "outputs": [
    {
     "data": {
      "text/html": [
       "<div>\n",
       "<style scoped>\n",
       "    .dataframe tbody tr th:only-of-type {\n",
       "        vertical-align: middle;\n",
       "    }\n",
       "\n",
       "    .dataframe tbody tr th {\n",
       "        vertical-align: top;\n",
       "    }\n",
       "\n",
       "    .dataframe thead th {\n",
       "        text-align: right;\n",
       "    }\n",
       "</style>\n",
       "<table border=\"1\" class=\"dataframe\">\n",
       "  <thead>\n",
       "    <tr style=\"text-align: right;\">\n",
       "      <th></th>\n",
       "      <th>publisher</th>\n",
       "      <th>genres</th>\n",
       "      <th>app_name</th>\n",
       "      <th>title</th>\n",
       "      <th>url</th>\n",
       "      <th>release_date</th>\n",
       "      <th>tags</th>\n",
       "      <th>reviews_url</th>\n",
       "      <th>specs</th>\n",
       "      <th>price</th>\n",
       "      <th>early_access</th>\n",
       "      <th>id</th>\n",
       "      <th>developer</th>\n",
       "    </tr>\n",
       "  </thead>\n",
       "  <tbody>\n",
       "    <tr>\n",
       "      <th>0</th>\n",
       "      <td>None</td>\n",
       "      <td>None</td>\n",
       "      <td>None</td>\n",
       "      <td>None</td>\n",
       "      <td>None</td>\n",
       "      <td>None</td>\n",
       "      <td>None</td>\n",
       "      <td>None</td>\n",
       "      <td>None</td>\n",
       "      <td>None</td>\n",
       "      <td>NaN</td>\n",
       "      <td>NaN</td>\n",
       "      <td>None</td>\n",
       "    </tr>\n",
       "    <tr>\n",
       "      <th>1</th>\n",
       "      <td>None</td>\n",
       "      <td>None</td>\n",
       "      <td>None</td>\n",
       "      <td>None</td>\n",
       "      <td>None</td>\n",
       "      <td>None</td>\n",
       "      <td>None</td>\n",
       "      <td>None</td>\n",
       "      <td>None</td>\n",
       "      <td>None</td>\n",
       "      <td>NaN</td>\n",
       "      <td>NaN</td>\n",
       "      <td>None</td>\n",
       "    </tr>\n",
       "    <tr>\n",
       "      <th>2</th>\n",
       "      <td>None</td>\n",
       "      <td>None</td>\n",
       "      <td>None</td>\n",
       "      <td>None</td>\n",
       "      <td>None</td>\n",
       "      <td>None</td>\n",
       "      <td>None</td>\n",
       "      <td>None</td>\n",
       "      <td>None</td>\n",
       "      <td>None</td>\n",
       "      <td>NaN</td>\n",
       "      <td>NaN</td>\n",
       "      <td>None</td>\n",
       "    </tr>\n",
       "    <tr>\n",
       "      <th>3</th>\n",
       "      <td>None</td>\n",
       "      <td>None</td>\n",
       "      <td>None</td>\n",
       "      <td>None</td>\n",
       "      <td>None</td>\n",
       "      <td>None</td>\n",
       "      <td>None</td>\n",
       "      <td>None</td>\n",
       "      <td>None</td>\n",
       "      <td>None</td>\n",
       "      <td>NaN</td>\n",
       "      <td>NaN</td>\n",
       "      <td>None</td>\n",
       "    </tr>\n",
       "    <tr>\n",
       "      <th>4</th>\n",
       "      <td>None</td>\n",
       "      <td>None</td>\n",
       "      <td>None</td>\n",
       "      <td>None</td>\n",
       "      <td>None</td>\n",
       "      <td>None</td>\n",
       "      <td>None</td>\n",
       "      <td>None</td>\n",
       "      <td>None</td>\n",
       "      <td>None</td>\n",
       "      <td>NaN</td>\n",
       "      <td>NaN</td>\n",
       "      <td>None</td>\n",
       "    </tr>\n",
       "  </tbody>\n",
       "</table>\n",
       "</div>"
      ],
      "text/plain": [
       "  publisher genres app_name title   url release_date  tags reviews_url specs  \\\n",
       "0      None   None     None  None  None         None  None        None  None   \n",
       "1      None   None     None  None  None         None  None        None  None   \n",
       "2      None   None     None  None  None         None  None        None  None   \n",
       "3      None   None     None  None  None         None  None        None  None   \n",
       "4      None   None     None  None  None         None  None        None  None   \n",
       "\n",
       "  price  early_access  id developer  \n",
       "0  None           NaN NaN      None  \n",
       "1  None           NaN NaN      None  \n",
       "2  None           NaN NaN      None  \n",
       "3  None           NaN NaN      None  \n",
       "4  None           NaN NaN      None  "
      ]
     },
     "execution_count": 7,
     "metadata": {},
     "output_type": "execute_result"
    }
   ],
   "source": [
    "games.head()\n"
   ]
  },
  {
   "cell_type": "code",
   "execution_count": 9,
   "metadata": {},
   "outputs": [
    {
     "data": {
      "text/html": [
       "<div>\n",
       "<style scoped>\n",
       "    .dataframe tbody tr th:only-of-type {\n",
       "        vertical-align: middle;\n",
       "    }\n",
       "\n",
       "    .dataframe tbody tr th {\n",
       "        vertical-align: top;\n",
       "    }\n",
       "\n",
       "    .dataframe thead th {\n",
       "        text-align: right;\n",
       "    }\n",
       "</style>\n",
       "<table border=\"1\" class=\"dataframe\">\n",
       "  <thead>\n",
       "    <tr style=\"text-align: right;\">\n",
       "      <th></th>\n",
       "      <th>publisher</th>\n",
       "      <th>genres</th>\n",
       "      <th>app_name</th>\n",
       "      <th>title</th>\n",
       "      <th>url</th>\n",
       "      <th>release_date</th>\n",
       "      <th>tags</th>\n",
       "      <th>reviews_url</th>\n",
       "      <th>specs</th>\n",
       "      <th>price</th>\n",
       "      <th>early_access</th>\n",
       "      <th>id</th>\n",
       "      <th>developer</th>\n",
       "    </tr>\n",
       "  </thead>\n",
       "  <tbody>\n",
       "    <tr>\n",
       "      <th>120440</th>\n",
       "      <td>Ghost_RUS Games</td>\n",
       "      <td>[Casual, Indie, Simulation, Strategy]</td>\n",
       "      <td>Colony On Mars</td>\n",
       "      <td>Colony On Mars</td>\n",
       "      <td>http://store.steampowered.com/app/773640/Colon...</td>\n",
       "      <td>2018-01-04</td>\n",
       "      <td>[Strategy, Indie, Casual, Simulation]</td>\n",
       "      <td>http://steamcommunity.com/app/773640/reviews/?...</td>\n",
       "      <td>[Single-player, Steam Achievements]</td>\n",
       "      <td>1.99</td>\n",
       "      <td>0.0</td>\n",
       "      <td>773640.0</td>\n",
       "      <td>Nikita \"Ghost_RUS\"</td>\n",
       "    </tr>\n",
       "    <tr>\n",
       "      <th>120441</th>\n",
       "      <td>Sacada</td>\n",
       "      <td>[Casual, Indie, Strategy]</td>\n",
       "      <td>LOGistICAL: South Africa</td>\n",
       "      <td>LOGistICAL: South Africa</td>\n",
       "      <td>http://store.steampowered.com/app/733530/LOGis...</td>\n",
       "      <td>2018-01-04</td>\n",
       "      <td>[Strategy, Indie, Casual]</td>\n",
       "      <td>http://steamcommunity.com/app/733530/reviews/?...</td>\n",
       "      <td>[Single-player, Steam Achievements, Steam Clou...</td>\n",
       "      <td>4.99</td>\n",
       "      <td>0.0</td>\n",
       "      <td>733530.0</td>\n",
       "      <td>Sacada</td>\n",
       "    </tr>\n",
       "    <tr>\n",
       "      <th>120442</th>\n",
       "      <td>Laush Studio</td>\n",
       "      <td>[Indie, Racing, Simulation]</td>\n",
       "      <td>Russian Roads</td>\n",
       "      <td>Russian Roads</td>\n",
       "      <td>http://store.steampowered.com/app/610660/Russi...</td>\n",
       "      <td>2018-01-04</td>\n",
       "      <td>[Indie, Simulation, Racing]</td>\n",
       "      <td>http://steamcommunity.com/app/610660/reviews/?...</td>\n",
       "      <td>[Single-player, Steam Achievements, Steam Trad...</td>\n",
       "      <td>1.99</td>\n",
       "      <td>0.0</td>\n",
       "      <td>610660.0</td>\n",
       "      <td>Laush Dmitriy Sergeevich</td>\n",
       "    </tr>\n",
       "    <tr>\n",
       "      <th>120443</th>\n",
       "      <td>SIXNAILS</td>\n",
       "      <td>[Casual, Indie]</td>\n",
       "      <td>EXIT 2 - Directions</td>\n",
       "      <td>EXIT 2 - Directions</td>\n",
       "      <td>http://store.steampowered.com/app/658870/EXIT_...</td>\n",
       "      <td>2017-09-02</td>\n",
       "      <td>[Indie, Casual, Puzzle, Singleplayer, Atmosphe...</td>\n",
       "      <td>http://steamcommunity.com/app/658870/reviews/?...</td>\n",
       "      <td>[Single-player, Steam Achievements, Steam Cloud]</td>\n",
       "      <td>4.99</td>\n",
       "      <td>0.0</td>\n",
       "      <td>658870.0</td>\n",
       "      <td>xropi,stev3ns</td>\n",
       "    </tr>\n",
       "    <tr>\n",
       "      <th>120444</th>\n",
       "      <td>None</td>\n",
       "      <td>None</td>\n",
       "      <td>Maze Run VR</td>\n",
       "      <td>None</td>\n",
       "      <td>http://store.steampowered.com/app/681550/Maze_...</td>\n",
       "      <td>None</td>\n",
       "      <td>[Early Access, Adventure, Indie, Action, Simul...</td>\n",
       "      <td>http://steamcommunity.com/app/681550/reviews/?...</td>\n",
       "      <td>[Single-player, Stats, Steam Leaderboards, HTC...</td>\n",
       "      <td>4.99</td>\n",
       "      <td>1.0</td>\n",
       "      <td>681550.0</td>\n",
       "      <td>None</td>\n",
       "    </tr>\n",
       "  </tbody>\n",
       "</table>\n",
       "</div>"
      ],
      "text/plain": [
       "              publisher                                 genres  \\\n",
       "120440  Ghost_RUS Games  [Casual, Indie, Simulation, Strategy]   \n",
       "120441           Sacada              [Casual, Indie, Strategy]   \n",
       "120442     Laush Studio            [Indie, Racing, Simulation]   \n",
       "120443         SIXNAILS                        [Casual, Indie]   \n",
       "120444             None                                   None   \n",
       "\n",
       "                        app_name                     title  \\\n",
       "120440            Colony On Mars            Colony On Mars   \n",
       "120441  LOGistICAL: South Africa  LOGistICAL: South Africa   \n",
       "120442             Russian Roads             Russian Roads   \n",
       "120443       EXIT 2 - Directions       EXIT 2 - Directions   \n",
       "120444               Maze Run VR                      None   \n",
       "\n",
       "                                                      url release_date  \\\n",
       "120440  http://store.steampowered.com/app/773640/Colon...   2018-01-04   \n",
       "120441  http://store.steampowered.com/app/733530/LOGis...   2018-01-04   \n",
       "120442  http://store.steampowered.com/app/610660/Russi...   2018-01-04   \n",
       "120443  http://store.steampowered.com/app/658870/EXIT_...   2017-09-02   \n",
       "120444  http://store.steampowered.com/app/681550/Maze_...         None   \n",
       "\n",
       "                                                     tags  \\\n",
       "120440              [Strategy, Indie, Casual, Simulation]   \n",
       "120441                          [Strategy, Indie, Casual]   \n",
       "120442                        [Indie, Simulation, Racing]   \n",
       "120443  [Indie, Casual, Puzzle, Singleplayer, Atmosphe...   \n",
       "120444  [Early Access, Adventure, Indie, Action, Simul...   \n",
       "\n",
       "                                              reviews_url  \\\n",
       "120440  http://steamcommunity.com/app/773640/reviews/?...   \n",
       "120441  http://steamcommunity.com/app/733530/reviews/?...   \n",
       "120442  http://steamcommunity.com/app/610660/reviews/?...   \n",
       "120443  http://steamcommunity.com/app/658870/reviews/?...   \n",
       "120444  http://steamcommunity.com/app/681550/reviews/?...   \n",
       "\n",
       "                                                    specs price  early_access  \\\n",
       "120440                [Single-player, Steam Achievements]  1.99           0.0   \n",
       "120441  [Single-player, Steam Achievements, Steam Clou...  4.99           0.0   \n",
       "120442  [Single-player, Steam Achievements, Steam Trad...  1.99           0.0   \n",
       "120443   [Single-player, Steam Achievements, Steam Cloud]  4.99           0.0   \n",
       "120444  [Single-player, Stats, Steam Leaderboards, HTC...  4.99           1.0   \n",
       "\n",
       "              id                 developer  \n",
       "120440  773640.0        Nikita \"Ghost_RUS\"  \n",
       "120441  733530.0                    Sacada  \n",
       "120442  610660.0  Laush Dmitriy Sergeevich  \n",
       "120443  658870.0             xropi,stev3ns  \n",
       "120444  681550.0                      None  "
      ]
     },
     "execution_count": 9,
     "metadata": {},
     "output_type": "execute_result"
    }
   ],
   "source": [
    "#Ultimas 5 filas:\n",
    "games.tail()"
   ]
  },
  {
   "cell_type": "markdown",
   "metadata": {},
   "source": [
    "Notamos que no todas las filas son nulas revisamos cuantas son"
   ]
  },
  {
   "cell_type": "code",
   "execution_count": 19,
   "metadata": {},
   "outputs": [
    {
     "name": "stdout",
     "output_type": "stream",
     "text": [
      " La cantidad de filas nulas son: 88310\n"
     ]
    }
   ],
   "source": [
    "#Cantidad de filas nulas\n",
    "filas_con_nulos = games[games.isnull().all(axis=1)]\n",
    "print(f\" La cantidad de filas nulas son: {len(filas_con_nulos)}\")"
   ]
  },
  {
   "cell_type": "markdown",
   "metadata": {},
   "source": [
    "Con respecto a las filas que no son nulas notamos que las columnas 'tags' y 'genres' tienen valores parecidos, ademas ambas columnas estan anidadas, por lo que se debería desanidar:"
   ]
  },
  {
   "cell_type": "code",
   "execution_count": 11,
   "metadata": {},
   "outputs": [
    {
     "data": {
      "text/html": [
       "<div>\n",
       "<style scoped>\n",
       "    .dataframe tbody tr th:only-of-type {\n",
       "        vertical-align: middle;\n",
       "    }\n",
       "\n",
       "    .dataframe tbody tr th {\n",
       "        vertical-align: top;\n",
       "    }\n",
       "\n",
       "    .dataframe thead th {\n",
       "        text-align: right;\n",
       "    }\n",
       "</style>\n",
       "<table border=\"1\" class=\"dataframe\">\n",
       "  <thead>\n",
       "    <tr style=\"text-align: right;\">\n",
       "      <th></th>\n",
       "      <th>tags</th>\n",
       "      <th>genres</th>\n",
       "    </tr>\n",
       "  </thead>\n",
       "  <tbody>\n",
       "    <tr>\n",
       "      <th>120440</th>\n",
       "      <td>[Strategy, Indie, Casual, Simulation]</td>\n",
       "      <td>[Casual, Indie, Simulation, Strategy]</td>\n",
       "    </tr>\n",
       "    <tr>\n",
       "      <th>120441</th>\n",
       "      <td>[Strategy, Indie, Casual]</td>\n",
       "      <td>[Casual, Indie, Strategy]</td>\n",
       "    </tr>\n",
       "    <tr>\n",
       "      <th>120442</th>\n",
       "      <td>[Indie, Simulation, Racing]</td>\n",
       "      <td>[Indie, Racing, Simulation]</td>\n",
       "    </tr>\n",
       "    <tr>\n",
       "      <th>120443</th>\n",
       "      <td>[Indie, Casual, Puzzle, Singleplayer, Atmosphe...</td>\n",
       "      <td>[Casual, Indie]</td>\n",
       "    </tr>\n",
       "    <tr>\n",
       "      <th>120444</th>\n",
       "      <td>[Early Access, Adventure, Indie, Action, Simul...</td>\n",
       "      <td>None</td>\n",
       "    </tr>\n",
       "  </tbody>\n",
       "</table>\n",
       "</div>"
      ],
      "text/plain": [
       "                                                     tags  \\\n",
       "120440              [Strategy, Indie, Casual, Simulation]   \n",
       "120441                          [Strategy, Indie, Casual]   \n",
       "120442                        [Indie, Simulation, Racing]   \n",
       "120443  [Indie, Casual, Puzzle, Singleplayer, Atmosphe...   \n",
       "120444  [Early Access, Adventure, Indie, Action, Simul...   \n",
       "\n",
       "                                       genres  \n",
       "120440  [Casual, Indie, Simulation, Strategy]  \n",
       "120441              [Casual, Indie, Strategy]  \n",
       "120442            [Indie, Racing, Simulation]  \n",
       "120443                        [Casual, Indie]  \n",
       "120444                                   None  "
      ]
     },
     "execution_count": 11,
     "metadata": {},
     "output_type": "execute_result"
    }
   ],
   "source": [
    "games[[\"tags\",\"genres\"]].tail()"
   ]
  },
  {
   "cell_type": "markdown",
   "metadata": {},
   "source": [
    "De la columna \"release_date\" viene la fecha completa y para el proyecto solo necesito el año. El cual se debera sacar solo el año:"
   ]
  },
  {
   "cell_type": "code",
   "execution_count": 12,
   "metadata": {},
   "outputs": [
    {
     "data": {
      "text/plain": [
       "120440    2018-01-04\n",
       "120441    2018-01-04\n",
       "120442    2018-01-04\n",
       "120443    2017-09-02\n",
       "120444          None\n",
       "Name: release_date, dtype: object"
      ]
     },
     "execution_count": 12,
     "metadata": {},
     "output_type": "execute_result"
    }
   ],
   "source": [
    "games.release_date.tail() "
   ]
  },
  {
   "cell_type": "markdown",
   "metadata": {},
   "source": [
    "También notamos que de la columna 'price' hay precios que deberian ser 0 y estan en palabras como Free to play, Free, Free to use, entre otros mas por ende este un str y deberiamos convertirlos en float una vez corregidos:"
   ]
  },
  {
   "cell_type": "code",
   "execution_count": 13,
   "metadata": {},
   "outputs": [
    {
     "data": {
      "text/plain": [
       "price\n",
       "74.76          1\n",
       "32.99          1\n",
       "14.95          1\n",
       "26.99          1\n",
       "Free to Use    1\n",
       "Name: count, dtype: int64"
      ]
     },
     "execution_count": 13,
     "metadata": {},
     "output_type": "execute_result"
    }
   ],
   "source": [
    "games.price.value_counts().tail()"
   ]
  },
  {
   "cell_type": "markdown",
   "metadata": {},
   "source": [
    "Arreglamos la columna 'price' para poder guardar el dataset:"
   ]
  },
  {
   "cell_type": "markdown",
   "metadata": {},
   "source": [
    "Primero revisamo si free to use es el unico valor no numerico"
   ]
  },
  {
   "cell_type": "code",
   "execution_count": 14,
   "metadata": {},
   "outputs": [
    {
     "name": "stdout",
     "output_type": "stream",
     "text": [
      "Recuento de valores únicos no numéricos de la columna 'price':\n",
      "price\n",
      "Free                             905\n",
      "Free to Play                     520\n",
      "Free To Play                     462\n",
      "Free Mod                           4\n",
      "Free Demo                          3\n",
      "Play Now                           2\n",
      "Third-party                        2\n",
      "Play for Free!                     2\n",
      "Play WARMACHINE: Tactics Demo      1\n",
      "Install Theme                      1\n",
      "Install Now                        1\n",
      "Free HITMAN™ Holiday Pack          1\n",
      "Play the Demo                      1\n",
      "Starting at $499.00                1\n",
      "Starting at $449.00                1\n",
      "Free to Try                        1\n",
      "Free Movie                         1\n",
      "Free to Use                        1\n",
      "Name: count, dtype: int64\n",
      "Número de valores únicos no numéricos en la columna 'price': 18\n"
     ]
    }
   ],
   "source": [
    "# Convertir la columna 'price' a numérico, los valores no convertibles serán NaN\n",
    "games['price_numeric'] = pd.to_numeric(games['price'], errors='coerce')\n",
    "\n",
    "# Filtrar los valores que no son numéricos\n",
    "valores_no_numericos = games[games['price_numeric'].isna()]['price']\n",
    "\n",
    "# Obtener el recuento de valores únicos no numéricos\n",
    "conteo_valores_no_numericos = valores_no_numericos.value_counts()\n",
    "\n",
    "# Mostrar el recuento de valores únicos no numéricos\n",
    "print(\"Recuento de valores únicos no numéricos de la columna 'price':\")\n",
    "print(conteo_valores_no_numericos)\n",
    "\n",
    "# Obtener el número de valores únicos no numéricos\n",
    "num_valores_no_numericos_unicos = valores_no_numericos.nunique()\n",
    "\n",
    "# Imprimir el número de valores únicos no numéricos\n",
    "print(f\"Número de valores únicos no numéricos en la columna 'price': {num_valores_no_numericos_unicos}\")\n",
    "\n",
    "games = games.drop(columns=['price_numeric'])"
   ]
  },
  {
   "cell_type": "markdown",
   "metadata": {},
   "source": [
    "Vemos que hay 18 valores no numericos procedemos a remplazarlor por 0.00 debido a que la mayoria es para decir gratis"
   ]
  },
  {
   "cell_type": "code",
   "execution_count": 3,
   "metadata": {},
   "outputs": [],
   "source": [
    "# Definir un diccionario de mapeo de valores a reemplazar y su valor de reemplazo\n",
    "mapeo_reemplazo = {'Free': '0', 'Free To Play': '0', 'Free Mod' : '0' ,'Free Demo' : '0' ,'Play for Free!' :'0' ,'Third-party' : '0' ,'Play Now' : '0' ,'Install Now' : '0' ,'Play WARMACHINE: Tactics Demo' : '0' ,'Install Theme' : '0' ,'Free HITMAN™ Holiday Pack' : '0' ,'Play the Demo' : '0' ,'Free to Try' : '0' ,'Free to Use' : '0','Free to Play' : '0','Starting at $449.00' : '0','Starting at $499.00 ' : '0','Free Movie' : '0'}\n",
    "\n",
    "# Reemplazar los valores en la columna 'price' según el diccionario de mapeo\n",
    "games['price'] = games['price'].replace(mapeo_reemplazo)\n",
    "games['price'] = pd.to_numeric(games['price'], errors='coerce')\n",
    "#esta ultima linia combierte los '0' = 0.00 "
   ]
  },
  {
   "cell_type": "markdown",
   "metadata": {},
   "source": [
    "Comprobamos\n"
   ]
  },
  {
   "cell_type": "code",
   "execution_count": 4,
   "metadata": {},
   "outputs": [
    {
     "name": "stdout",
     "output_type": "stream",
     "text": [
      "Recuento de valores únicos no numéricos de la columna 'price':\n",
      "Series([], Name: count, dtype: int64)\n",
      "Número de valores únicos no numéricos en la columna 'price': 0\n"
     ]
    }
   ],
   "source": [
    "# Convertir la columna 'price' a numérico, los valores no convertibles serán NaN\n",
    "games['price_numeric'] = pd.to_numeric(games['price'], errors='coerce')\n",
    "\n",
    "# Filtrar los valores que no son numéricos\n",
    "valores_no_numericos = games[games['price_numeric'].isna()]['price']\n",
    "\n",
    "# Obtener el recuento de valores únicos no numéricos\n",
    "conteo_valores_no_numericos = valores_no_numericos.value_counts()\n",
    "\n",
    "# Mostrar el recuento de valores únicos no numéricos\n",
    "print(\"Recuento de valores únicos no numéricos de la columna 'price':\")\n",
    "print(conteo_valores_no_numericos)\n",
    "\n",
    "# Obtener el número de valores únicos no numéricos\n",
    "num_valores_no_numericos_unicos = valores_no_numericos.nunique()\n",
    "\n",
    "# Imprimir el número de valores únicos no numéricos\n",
    "print(f\"Número de valores únicos no numéricos en la columna 'price': {num_valores_no_numericos_unicos}\")\n",
    "\n",
    "games = games.drop(columns=['price_numeric'])"
   ]
  },
  {
   "cell_type": "markdown",
   "metadata": {},
   "source": [
    "Vemos también el top 10 de las desarrolladoras que mas juegos relizaron de la columna 'developer':"
   ]
  },
  {
   "cell_type": "code",
   "execution_count": 21,
   "metadata": {},
   "outputs": [
    {
     "data": {
      "image/png": "[encoded data removed]",
      "text/plain": [
       "<Figure size 800x800 with 1 Axes>"
      ]
     },
     "metadata": {},
     "output_type": "display_data"
    }
   ],
   "source": [
    "# Calcular la cantidad de datos por desarrollador\n",
    "cantidad_juegos_por_desarrollador = games['developer'].value_counts()\n",
    "\n",
    "# Nos quedamos con los 6 que mas juegos realizaron\n",
    "top_desarrolladores = cantidad_juegos_por_desarrollador.head(10)\n",
    "\n",
    "# Graficamos\n",
    "plt.figure(figsize=(8, 8))\n",
    "plt.pie(top_desarrolladores, labels=top_desarrolladores.index, autopct=lambda p: f'{int(p*sum(top_desarrolladores)/100)} juegos')\n",
    "plt.title('Top 10 desarrolladoras que más juegos realizaron')\n",
    "plt.show()"
   ]
  },
  {
   "cell_type": "code",
   "execution_count": 22,
   "metadata": {},
   "outputs": [
    {
     "name": "stdout",
     "output_type": "stream",
     "text": [
      "<class 'pandas.core.frame.DataFrame'>\n",
      "RangeIndex: 120445 entries, 0 to 120444\n",
      "Data columns (total 13 columns):\n",
      " #   Column        Non-Null Count  Dtype  \n",
      "---  ------        --------------  -----  \n",
      " 0   publisher     24083 non-null  object \n",
      " 1   genres        28852 non-null  object \n",
      " 2   app_name      32133 non-null  object \n",
      " 3   title         30085 non-null  object \n",
      " 4   url           32135 non-null  object \n",
      " 5   release_date  30068 non-null  object \n",
      " 6   tags          31972 non-null  object \n",
      " 7   reviews_url   32133 non-null  object \n",
      " 8   specs         31465 non-null  object \n",
      " 9   price         30757 non-null  float64\n",
      " 10  early_access  32135 non-null  float64\n",
      " 11  id            32133 non-null  float64\n",
      " 12  developer     28836 non-null  object \n",
      "dtypes: float64(3), object(10)\n",
      "memory usage: 11.9+ MB\n"
     ]
    }
   ],
   "source": [
    "games.info()"
   ]
  },
  {
   "cell_type": "markdown",
   "metadata": {},
   "source": [
    "vemos la cantidad e filas y columnas"
   ]
  },
  {
   "cell_type": "code",
   "execution_count": 23,
   "metadata": {},
   "outputs": [
    {
     "data": {
      "text/plain": [
       "(120445, 13)"
      ]
     },
     "execution_count": 23,
     "metadata": {},
     "output_type": "execute_result"
    }
   ],
   "source": [
    "games.shape"
   ]
  },
  {
   "cell_type": "markdown",
   "metadata": {},
   "source": [
    "Del total de columnas solo necesitariamos para este proyecto las siguientes: \"id\",\"title\",\"genres\",\"release_date\",\"price\",\"tags\" y \"developer\". De estas columnas necesarias notamos que tienen los siguentes nulos:"
   ]
  },
  {
   "cell_type": "code",
   "execution_count": 24,
   "metadata": {},
   "outputs": [
    {
     "name": "stdout",
     "output_type": "stream",
     "text": [
      "publisher       96362\n",
      "genres          91593\n",
      "app_name        88312\n",
      "title           90360\n",
      "url             88310\n",
      "release_date    90377\n",
      "tags            88473\n",
      "reviews_url     88312\n",
      "specs           88980\n",
      "price           89688\n",
      "early_access    88310\n",
      "id              88312\n",
      "developer       91609\n",
      "dtype: int64\n"
     ]
    }
   ],
   "source": [
    "print(games.isnull().sum())"
   ]
  },
  {
   "cell_type": "markdown",
   "metadata": {},
   "source": [
    "Con este grafico podemos ver mejor el porsentaje de nulos "
   ]
  },
  {
   "cell_type": "code",
   "execution_count": 26,
   "metadata": {},
   "outputs": [
    {
     "data": {
      "image/png": "[encoded data removed]",
      "text/plain": [
       "<Figure size 1000x600 with 1 Axes>"
      ]
     },
     "metadata": {},
     "output_type": "display_data"
    }
   ],
   "source": [
    "\n",
    "# Contar valores nulos y no nulos por columna\n",
    "null_counts = games.isnull().sum()\n",
    "non_null_counts = games.notnull().sum()\n",
    "\n",
    "# Calcular los porcentajes\n",
    "total_counts = null_counts + non_null_counts\n",
    "null_percentage = (null_counts / total_counts) * 100\n",
    "non_null_percentage = (non_null_counts / total_counts) * 100\n",
    "\n",
    "# Configurar el tamaño del gráfico\n",
    "fig, ax = plt.subplots(figsize=(10, 6))\n",
    "\n",
    "# Crear las barras apiladas\n",
    "bars1 = ax.barh(games.columns, null_percentage, color='lightcoral', edgecolor='grey', label='Nulos')\n",
    "bars2 = ax.barh(games.columns, non_null_percentage, left=null_percentage, color='lightgreen', edgecolor='grey', label='No Nulos')\n",
    "\n",
    "# Añadir etiquetas y título\n",
    "ax.set_xlabel('Porcentaje')\n",
    "ax.set_title('Porcentaje de valores nulos y no nulos por columna')\n",
    "ax.legend()\n",
    "\n",
    "# Mostrar el gráfico\n",
    "plt.show()"
   ]
  },
  {
   "cell_type": "markdown",
   "metadata": {},
   "source": [
    "Porcedemos a eliminar nulos\n"
   ]
  },
  {
   "cell_type": "code",
   "execution_count": 5,
   "metadata": {},
   "outputs": [
    {
     "name": "stdout",
     "output_type": "stream",
     "text": [
      "publisher       8052\n",
      "genres          3283\n",
      "app_name           2\n",
      "title           2050\n",
      "url                0\n",
      "release_date    2067\n",
      "tags             163\n",
      "reviews_url        2\n",
      "specs            670\n",
      "price           1378\n",
      "early_access       0\n",
      "id                 2\n",
      "developer       3299\n",
      "dtype: int64\n"
     ]
    }
   ],
   "source": [
    "games = games.dropna(how='all')\n",
    "print(games.isnull().sum())"
   ]
  },
  {
   "cell_type": "markdown",
   "metadata": {},
   "source": [
    "Revisamos como quedo\n"
   ]
  },
  {
   "cell_type": "code",
   "execution_count": 11,
   "metadata": {},
   "outputs": [
    {
     "data": {
      "text/html": [
       "<div>\n",
       "<style scoped>\n",
       "    .dataframe tbody tr th:only-of-type {\n",
       "        vertical-align: middle;\n",
       "    }\n",
       "\n",
       "    .dataframe tbody tr th {\n",
       "        vertical-align: top;\n",
       "    }\n",
       "\n",
       "    .dataframe thead th {\n",
       "        text-align: right;\n",
       "    }\n",
       "</style>\n",
       "<table border=\"1\" class=\"dataframe\">\n",
       "  <thead>\n",
       "    <tr style=\"text-align: right;\">\n",
       "      <th></th>\n",
       "      <th>publisher</th>\n",
       "      <th>genres</th>\n",
       "      <th>app_name</th>\n",
       "      <th>title</th>\n",
       "      <th>url</th>\n",
       "      <th>release_date</th>\n",
       "      <th>tags</th>\n",
       "      <th>reviews_url</th>\n",
       "      <th>specs</th>\n",
       "      <th>price</th>\n",
       "      <th>early_access</th>\n",
       "      <th>id</th>\n",
       "      <th>developer</th>\n",
       "      <th>combined_tags_genres</th>\n",
       "    </tr>\n",
       "  </thead>\n",
       "  <tbody>\n",
       "    <tr>\n",
       "      <th>88310</th>\n",
       "      <td>Kotoshiro</td>\n",
       "      <td>[Action, Casual, Indie, Simulation, Strategy]</td>\n",
       "      <td>Lost Summoner Kitty</td>\n",
       "      <td>Lost Summoner Kitty</td>\n",
       "      <td>http://store.steampowered.com/app/761140/Lost_...</td>\n",
       "      <td>2018-01-04</td>\n",
       "      <td>[Strategy, Action, Indie, Casual, Simulation]</td>\n",
       "      <td>http://steamcommunity.com/app/761140/reviews/?...</td>\n",
       "      <td>[Single-player]</td>\n",
       "      <td>4.99</td>\n",
       "      <td>0.0</td>\n",
       "      <td>761140.0</td>\n",
       "      <td>Kotoshiro</td>\n",
       "      <td>([Action, Casual, Indie, Simulation, Strategy]...</td>\n",
       "    </tr>\n",
       "    <tr>\n",
       "      <th>88311</th>\n",
       "      <td>Making Fun, Inc.</td>\n",
       "      <td>[Free to Play, Indie, RPG, Strategy]</td>\n",
       "      <td>Ironbound</td>\n",
       "      <td>Ironbound</td>\n",
       "      <td>http://store.steampowered.com/app/643980/Ironb...</td>\n",
       "      <td>2018-01-04</td>\n",
       "      <td>[Free to Play, Strategy, Indie, RPG, Card Game...</td>\n",
       "      <td>http://steamcommunity.com/app/643980/reviews/?...</td>\n",
       "      <td>[Single-player, Multi-player, Online Multi-Pla...</td>\n",
       "      <td>0.00</td>\n",
       "      <td>0.0</td>\n",
       "      <td>643980.0</td>\n",
       "      <td>Secret Level SRL</td>\n",
       "      <td>([Free to Play, Indie, RPG, Strategy], [Free t...</td>\n",
       "    </tr>\n",
       "    <tr>\n",
       "      <th>88312</th>\n",
       "      <td>Poolians.com</td>\n",
       "      <td>[Casual, Free to Play, Indie, Simulation, Sports]</td>\n",
       "      <td>Real Pool 3D - Poolians</td>\n",
       "      <td>Real Pool 3D - Poolians</td>\n",
       "      <td>http://store.steampowered.com/app/670290/Real_...</td>\n",
       "      <td>2017-07-24</td>\n",
       "      <td>[Free to Play, Simulation, Sports, Casual, Ind...</td>\n",
       "      <td>http://steamcommunity.com/app/670290/reviews/?...</td>\n",
       "      <td>[Single-player, Multi-player, Online Multi-Pla...</td>\n",
       "      <td>0.00</td>\n",
       "      <td>0.0</td>\n",
       "      <td>670290.0</td>\n",
       "      <td>Poolians.com</td>\n",
       "      <td>([Casual, Free to Play, Indie, Simulation, Spo...</td>\n",
       "    </tr>\n",
       "    <tr>\n",
       "      <th>88313</th>\n",
       "      <td>彼岸领域</td>\n",
       "      <td>[Action, Adventure, Casual]</td>\n",
       "      <td>弹炸人2222</td>\n",
       "      <td>弹炸人2222</td>\n",
       "      <td>http://store.steampowered.com/app/767400/2222/</td>\n",
       "      <td>2017-12-07</td>\n",
       "      <td>[Action, Adventure, Casual]</td>\n",
       "      <td>http://steamcommunity.com/app/767400/reviews/?...</td>\n",
       "      <td>[Single-player]</td>\n",
       "      <td>0.99</td>\n",
       "      <td>0.0</td>\n",
       "      <td>767400.0</td>\n",
       "      <td>彼岸领域</td>\n",
       "      <td>([Action, Adventure, Casual], [Action, Adventu...</td>\n",
       "    </tr>\n",
       "    <tr>\n",
       "      <th>88314</th>\n",
       "      <td>None</td>\n",
       "      <td>None</td>\n",
       "      <td>Log Challenge</td>\n",
       "      <td>None</td>\n",
       "      <td>http://store.steampowered.com/app/773570/Log_C...</td>\n",
       "      <td>None</td>\n",
       "      <td>[Action, Indie, Casual, Sports]</td>\n",
       "      <td>http://steamcommunity.com/app/773570/reviews/?...</td>\n",
       "      <td>[Single-player, Full controller support, HTC V...</td>\n",
       "      <td>2.99</td>\n",
       "      <td>0.0</td>\n",
       "      <td>773570.0</td>\n",
       "      <td>None</td>\n",
       "      <td>(None, [Action, Indie, Casual, Sports])</td>\n",
       "    </tr>\n",
       "  </tbody>\n",
       "</table>\n",
       "</div>"
      ],
      "text/plain": [
       "              publisher                                             genres  \\\n",
       "88310         Kotoshiro      [Action, Casual, Indie, Simulation, Strategy]   \n",
       "88311  Making Fun, Inc.               [Free to Play, Indie, RPG, Strategy]   \n",
       "88312      Poolians.com  [Casual, Free to Play, Indie, Simulation, Sports]   \n",
       "88313              彼岸领域                        [Action, Adventure, Casual]   \n",
       "88314              None                                               None   \n",
       "\n",
       "                      app_name                    title  \\\n",
       "88310      Lost Summoner Kitty      Lost Summoner Kitty   \n",
       "88311                Ironbound                Ironbound   \n",
       "88312  Real Pool 3D - Poolians  Real Pool 3D - Poolians   \n",
       "88313                  弹炸人2222                  弹炸人2222   \n",
       "88314            Log Challenge                     None   \n",
       "\n",
       "                                                     url release_date  \\\n",
       "88310  http://store.steampowered.com/app/761140/Lost_...   2018-01-04   \n",
       "88311  http://store.steampowered.com/app/643980/Ironb...   2018-01-04   \n",
       "88312  http://store.steampowered.com/app/670290/Real_...   2017-07-24   \n",
       "88313     http://store.steampowered.com/app/767400/2222/   2017-12-07   \n",
       "88314  http://store.steampowered.com/app/773570/Log_C...         None   \n",
       "\n",
       "                                                    tags  \\\n",
       "88310      [Strategy, Action, Indie, Casual, Simulation]   \n",
       "88311  [Free to Play, Strategy, Indie, RPG, Card Game...   \n",
       "88312  [Free to Play, Simulation, Sports, Casual, Ind...   \n",
       "88313                        [Action, Adventure, Casual]   \n",
       "88314                    [Action, Indie, Casual, Sports]   \n",
       "\n",
       "                                             reviews_url  \\\n",
       "88310  http://steamcommunity.com/app/761140/reviews/?...   \n",
       "88311  http://steamcommunity.com/app/643980/reviews/?...   \n",
       "88312  http://steamcommunity.com/app/670290/reviews/?...   \n",
       "88313  http://steamcommunity.com/app/767400/reviews/?...   \n",
       "88314  http://steamcommunity.com/app/773570/reviews/?...   \n",
       "\n",
       "                                                   specs  price  early_access  \\\n",
       "88310                                    [Single-player]   4.99           0.0   \n",
       "88311  [Single-player, Multi-player, Online Multi-Pla...   0.00           0.0   \n",
       "88312  [Single-player, Multi-player, Online Multi-Pla...   0.00           0.0   \n",
       "88313                                    [Single-player]   0.99           0.0   \n",
       "88314  [Single-player, Full controller support, HTC V...   2.99           0.0   \n",
       "\n",
       "             id         developer  \\\n",
       "88310  761140.0         Kotoshiro   \n",
       "88311  643980.0  Secret Level SRL   \n",
       "88312  670290.0      Poolians.com   \n",
       "88313  767400.0              彼岸领域   \n",
       "88314  773570.0              None   \n",
       "\n",
       "                                    combined_tags_genres  \n",
       "88310  ([Action, Casual, Indie, Simulation, Strategy]...  \n",
       "88311  ([Free to Play, Indie, RPG, Strategy], [Free t...  \n",
       "88312  ([Casual, Free to Play, Indie, Simulation, Spo...  \n",
       "88313  ([Action, Adventure, Casual], [Action, Adventu...  \n",
       "88314            (None, [Action, Indie, Casual, Sports])  "
      ]
     },
     "execution_count": 11,
     "metadata": {},
     "output_type": "execute_result"
    }
   ],
   "source": [
    "games.head()\n"
   ]
  },
  {
   "cell_type": "markdown",
   "metadata": {},
   "source": [
    "vemos que el id a quedamo mal debedo a las filas borradas"
   ]
  },
  {
   "cell_type": "code",
   "execution_count": 12,
   "metadata": {},
   "outputs": [],
   "source": [
    "games = games.reset_index(drop=True)\n"
   ]
  },
  {
   "cell_type": "code",
   "execution_count": 13,
   "metadata": {},
   "outputs": [
    {
     "data": {
      "text/html": [
       "<div>\n",
       "<style scoped>\n",
       "    .dataframe tbody tr th:only-of-type {\n",
       "        vertical-align: middle;\n",
       "    }\n",
       "\n",
       "    .dataframe tbody tr th {\n",
       "        vertical-align: top;\n",
       "    }\n",
       "\n",
       "    .dataframe thead th {\n",
       "        text-align: right;\n",
       "    }\n",
       "</style>\n",
       "<table border=\"1\" class=\"dataframe\">\n",
       "  <thead>\n",
       "    <tr style=\"text-align: right;\">\n",
       "      <th></th>\n",
       "      <th>publisher</th>\n",
       "      <th>genres</th>\n",
       "      <th>app_name</th>\n",
       "      <th>title</th>\n",
       "      <th>url</th>\n",
       "      <th>release_date</th>\n",
       "      <th>tags</th>\n",
       "      <th>reviews_url</th>\n",
       "      <th>specs</th>\n",
       "      <th>price</th>\n",
       "      <th>early_access</th>\n",
       "      <th>id</th>\n",
       "      <th>developer</th>\n",
       "      <th>combined_tags_genres</th>\n",
       "    </tr>\n",
       "  </thead>\n",
       "  <tbody>\n",
       "    <tr>\n",
       "      <th>0</th>\n",
       "      <td>Kotoshiro</td>\n",
       "      <td>[Action, Casual, Indie, Simulation, Strategy]</td>\n",
       "      <td>Lost Summoner Kitty</td>\n",
       "      <td>Lost Summoner Kitty</td>\n",
       "      <td>http://store.steampowered.com/app/761140/Lost_...</td>\n",
       "      <td>2018-01-04</td>\n",
       "      <td>[Strategy, Action, Indie, Casual, Simulation]</td>\n",
       "      <td>http://steamcommunity.com/app/761140/reviews/?...</td>\n",
       "      <td>[Single-player]</td>\n",
       "      <td>4.99</td>\n",
       "      <td>0.0</td>\n",
       "      <td>761140.0</td>\n",
       "      <td>Kotoshiro</td>\n",
       "      <td>([Action, Casual, Indie, Simulation, Strategy]...</td>\n",
       "    </tr>\n",
       "    <tr>\n",
       "      <th>1</th>\n",
       "      <td>Making Fun, Inc.</td>\n",
       "      <td>[Free to Play, Indie, RPG, Strategy]</td>\n",
       "      <td>Ironbound</td>\n",
       "      <td>Ironbound</td>\n",
       "      <td>http://store.steampowered.com/app/643980/Ironb...</td>\n",
       "      <td>2018-01-04</td>\n",
       "      <td>[Free to Play, Strategy, Indie, RPG, Card Game...</td>\n",
       "      <td>http://steamcommunity.com/app/643980/reviews/?...</td>\n",
       "      <td>[Single-player, Multi-player, Online Multi-Pla...</td>\n",
       "      <td>0.00</td>\n",
       "      <td>0.0</td>\n",
       "      <td>643980.0</td>\n",
       "      <td>Secret Level SRL</td>\n",
       "      <td>([Free to Play, Indie, RPG, Strategy], [Free t...</td>\n",
       "    </tr>\n",
       "    <tr>\n",
       "      <th>2</th>\n",
       "      <td>Poolians.com</td>\n",
       "      <td>[Casual, Free to Play, Indie, Simulation, Sports]</td>\n",
       "      <td>Real Pool 3D - Poolians</td>\n",
       "      <td>Real Pool 3D - Poolians</td>\n",
       "      <td>http://store.steampowered.com/app/670290/Real_...</td>\n",
       "      <td>2017-07-24</td>\n",
       "      <td>[Free to Play, Simulation, Sports, Casual, Ind...</td>\n",
       "      <td>http://steamcommunity.com/app/670290/reviews/?...</td>\n",
       "      <td>[Single-player, Multi-player, Online Multi-Pla...</td>\n",
       "      <td>0.00</td>\n",
       "      <td>0.0</td>\n",
       "      <td>670290.0</td>\n",
       "      <td>Poolians.com</td>\n",
       "      <td>([Casual, Free to Play, Indie, Simulation, Spo...</td>\n",
       "    </tr>\n",
       "    <tr>\n",
       "      <th>3</th>\n",
       "      <td>彼岸领域</td>\n",
       "      <td>[Action, Adventure, Casual]</td>\n",
       "      <td>弹炸人2222</td>\n",
       "      <td>弹炸人2222</td>\n",
       "      <td>http://store.steampowered.com/app/767400/2222/</td>\n",
       "      <td>2017-12-07</td>\n",
       "      <td>[Action, Adventure, Casual]</td>\n",
       "      <td>http://steamcommunity.com/app/767400/reviews/?...</td>\n",
       "      <td>[Single-player]</td>\n",
       "      <td>0.99</td>\n",
       "      <td>0.0</td>\n",
       "      <td>767400.0</td>\n",
       "      <td>彼岸领域</td>\n",
       "      <td>([Action, Adventure, Casual], [Action, Adventu...</td>\n",
       "    </tr>\n",
       "    <tr>\n",
       "      <th>4</th>\n",
       "      <td>None</td>\n",
       "      <td>None</td>\n",
       "      <td>Log Challenge</td>\n",
       "      <td>None</td>\n",
       "      <td>http://store.steampowered.com/app/773570/Log_C...</td>\n",
       "      <td>None</td>\n",
       "      <td>[Action, Indie, Casual, Sports]</td>\n",
       "      <td>http://steamcommunity.com/app/773570/reviews/?...</td>\n",
       "      <td>[Single-player, Full controller support, HTC V...</td>\n",
       "      <td>2.99</td>\n",
       "      <td>0.0</td>\n",
       "      <td>773570.0</td>\n",
       "      <td>None</td>\n",
       "      <td>(None, [Action, Indie, Casual, Sports])</td>\n",
       "    </tr>\n",
       "  </tbody>\n",
       "</table>\n",
       "</div>"
      ],
      "text/plain": [
       "          publisher                                             genres  \\\n",
       "0         Kotoshiro      [Action, Casual, Indie, Simulation, Strategy]   \n",
       "1  Making Fun, Inc.               [Free to Play, Indie, RPG, Strategy]   \n",
       "2      Poolians.com  [Casual, Free to Play, Indie, Simulation, Sports]   \n",
       "3              彼岸领域                        [Action, Adventure, Casual]   \n",
       "4              None                                               None   \n",
       "\n",
       "                  app_name                    title  \\\n",
       "0      Lost Summoner Kitty      Lost Summoner Kitty   \n",
       "1                Ironbound                Ironbound   \n",
       "2  Real Pool 3D - Poolians  Real Pool 3D - Poolians   \n",
       "3                  弹炸人2222                  弹炸人2222   \n",
       "4            Log Challenge                     None   \n",
       "\n",
       "                                                 url release_date  \\\n",
       "0  http://store.steampowered.com/app/761140/Lost_...   2018-01-04   \n",
       "1  http://store.steampowered.com/app/643980/Ironb...   2018-01-04   \n",
       "2  http://store.steampowered.com/app/670290/Real_...   2017-07-24   \n",
       "3     http://store.steampowered.com/app/767400/2222/   2017-12-07   \n",
       "4  http://store.steampowered.com/app/773570/Log_C...         None   \n",
       "\n",
       "                                                tags  \\\n",
       "0      [Strategy, Action, Indie, Casual, Simulation]   \n",
       "1  [Free to Play, Strategy, Indie, RPG, Card Game...   \n",
       "2  [Free to Play, Simulation, Sports, Casual, Ind...   \n",
       "3                        [Action, Adventure, Casual]   \n",
       "4                    [Action, Indie, Casual, Sports]   \n",
       "\n",
       "                                         reviews_url  \\\n",
       "0  http://steamcommunity.com/app/761140/reviews/?...   \n",
       "1  http://steamcommunity.com/app/643980/reviews/?...   \n",
       "2  http://steamcommunity.com/app/670290/reviews/?...   \n",
       "3  http://steamcommunity.com/app/767400/reviews/?...   \n",
       "4  http://steamcommunity.com/app/773570/reviews/?...   \n",
       "\n",
       "                                               specs  price  early_access  \\\n",
       "0                                    [Single-player]   4.99           0.0   \n",
       "1  [Single-player, Multi-player, Online Multi-Pla...   0.00           0.0   \n",
       "2  [Single-player, Multi-player, Online Multi-Pla...   0.00           0.0   \n",
       "3                                    [Single-player]   0.99           0.0   \n",
       "4  [Single-player, Full controller support, HTC V...   2.99           0.0   \n",
       "\n",
       "         id         developer  \\\n",
       "0  761140.0         Kotoshiro   \n",
       "1  643980.0  Secret Level SRL   \n",
       "2  670290.0      Poolians.com   \n",
       "3  767400.0              彼岸领域   \n",
       "4  773570.0              None   \n",
       "\n",
       "                                combined_tags_genres  \n",
       "0  ([Action, Casual, Indie, Simulation, Strategy]...  \n",
       "1  ([Free to Play, Indie, RPG, Strategy], [Free t...  \n",
       "2  ([Casual, Free to Play, Indie, Simulation, Spo...  \n",
       "3  ([Action, Adventure, Casual], [Action, Adventu...  \n",
       "4            (None, [Action, Indie, Casual, Sports])  "
      ]
     },
     "execution_count": 13,
     "metadata": {},
     "output_type": "execute_result"
    }
   ],
   "source": [
    "games.head()"
   ]
  },
  {
   "cell_type": "code",
   "execution_count": 6,
   "metadata": {},
   "outputs": [
    {
     "name": "stdout",
     "output_type": "stream",
     "text": [
      "El tipo de dato de la columna 'id' es: float64\n",
      "El tipo de dato de la columna 'app_name' es: object\n",
      "El tipo de dato de la columna 'genres' es: object\n",
      "El tipo de dato de la columna 'release_date' es: object\n",
      "El tipo de dato de la columna 'price' es: float64\n",
      "El tipo de dato de la columna 'developer' es: object\n",
      "El tipo de dato de la columna 'tags' es: object\n"
     ]
    }
   ],
   "source": [
    "columns = [\"id\", \"app_name\", \"genres\", \"release_date\", \"price\", \"developer\",\"tags\"]\n",
    "\n",
    "for column in columns:\n",
    "    print(f\"El tipo de dato de la columna '{column}' es:\", games[column].dtype)"
   ]
  },
  {
   "cell_type": "markdown",
   "metadata": {},
   "source": [
    "debido a que la col genres y tags soon similares las combinamos\n"
   ]
  },
  {
   "cell_type": "code",
   "execution_count": 14,
   "metadata": {},
   "outputs": [
    {
     "data": {
      "text/plain": [
       "(['Free to Play', 'Indie', 'RPG', 'Strategy'],\n",
       " ['Free to Play',\n",
       "  'Strategy',\n",
       "  'Indie',\n",
       "  'RPG',\n",
       "  'Card Game',\n",
       "  'Trading Card Game',\n",
       "  'Turn-Based',\n",
       "  'Fantasy',\n",
       "  'Tactical',\n",
       "  'Dark Fantasy',\n",
       "  'Board Game',\n",
       "  'PvP',\n",
       "  '2D',\n",
       "  'Competitive',\n",
       "  'Replay Value',\n",
       "  'Character Customization',\n",
       "  'Female Protagonist',\n",
       "  'Difficult',\n",
       "  'Design & Illustration'])"
      ]
     },
     "execution_count": 14,
     "metadata": {},
     "output_type": "execute_result"
    }
   ],
   "source": [
    "games['combined_tags_genres'] = list(zip(games['genres'], games['tags']))\n",
    "\n",
    "\n",
    "\n",
    "# Imprimir el DataFrame resultante\n",
    "games['combined_tags_genres'][1]"
   ]
  },
  {
   "cell_type": "markdown",
   "metadata": {},
   "source": [
    "Borramos las filas que quedaron nulas incluso despues de la combinacion"
   ]
  },
  {
   "cell_type": "code",
   "execution_count": 16,
   "metadata": {},
   "outputs": [],
   "source": [
    "games = games.dropna(subset=['combined_tags_genres'])"
   ]
  },
  {
   "cell_type": "markdown",
   "metadata": {},
   "source": [
    "al combinarla nos que dos listas o mas pasomo a combinar las lista dentro e la col"
   ]
  },
  {
   "cell_type": "code",
   "execution_count": 19,
   "metadata": {},
   "outputs": [
    {
     "data": {
      "text/plain": [
       "['Free to Play',\n",
       " 'Indie',\n",
       " 'RPG',\n",
       " 'Strategy',\n",
       " 'Card Game',\n",
       " 'Trading Card Game',\n",
       " 'Turn-Based',\n",
       " 'Fantasy',\n",
       " 'Tactical',\n",
       " 'Dark Fantasy',\n",
       " 'Board Game',\n",
       " 'PvP',\n",
       " '2D',\n",
       " 'Competitive',\n",
       " 'Replay Value',\n",
       " 'Character Customization',\n",
       " 'Female Protagonist',\n",
       " 'Difficult',\n",
       " 'Design & Illustration']"
      ]
     },
     "execution_count": 19,
     "metadata": {},
     "output_type": "execute_result"
    }
   ],
   "source": [
    "\n",
    "# Define the function to combine lists while handling None values\n",
    "def combinar_listas(tupla):\n",
    "    combinada = []\n",
    "    if tupla is not None:\n",
    "        for lista in tupla:\n",
    "            if lista is not None:  # Check if the inner element is not None\n",
    "                combinada.extend(lista)\n",
    "    # Eliminar duplicados manteniendo el orden\n",
    "    vista_unica = []\n",
    "    [vista_unica.append(x) for x in combinada if x not in vista_unica]\n",
    "    return vista_unica\n",
    "\n",
    "# Apply the function to the combined_tags_genres column\n",
    "games['columna_combinada'] = games['combined_tags_genres'].apply(combinar_listas)\n",
    "\n",
    "# Verify the result\n",
    "\n",
    "games['columna_combinada'][1]"
   ]
  },
  {
   "cell_type": "markdown",
   "metadata": {},
   "source": [
    "Reviso el df"
   ]
  },
  {
   "cell_type": "code",
   "execution_count": 20,
   "metadata": {},
   "outputs": [
    {
     "data": {
      "text/html": [
       "<div>\n",
       "<style scoped>\n",
       "    .dataframe tbody tr th:only-of-type {\n",
       "        vertical-align: middle;\n",
       "    }\n",
       "\n",
       "    .dataframe tbody tr th {\n",
       "        vertical-align: top;\n",
       "    }\n",
       "\n",
       "    .dataframe thead th {\n",
       "        text-align: right;\n",
       "    }\n",
       "</style>\n",
       "<table border=\"1\" class=\"dataframe\">\n",
       "  <thead>\n",
       "    <tr style=\"text-align: right;\">\n",
       "      <th></th>\n",
       "      <th>publisher</th>\n",
       "      <th>genres</th>\n",
       "      <th>app_name</th>\n",
       "      <th>title</th>\n",
       "      <th>url</th>\n",
       "      <th>release_date</th>\n",
       "      <th>tags</th>\n",
       "      <th>reviews_url</th>\n",
       "      <th>specs</th>\n",
       "      <th>price</th>\n",
       "      <th>early_access</th>\n",
       "      <th>id</th>\n",
       "      <th>developer</th>\n",
       "      <th>combined_tags_genres</th>\n",
       "      <th>columna_combinada</th>\n",
       "    </tr>\n",
       "  </thead>\n",
       "  <tbody>\n",
       "    <tr>\n",
       "      <th>0</th>\n",
       "      <td>Kotoshiro</td>\n",
       "      <td>[Action, Casual, Indie, Simulation, Strategy]</td>\n",
       "      <td>Lost Summoner Kitty</td>\n",
       "      <td>Lost Summoner Kitty</td>\n",
       "      <td>http://store.steampowered.com/app/761140/Lost_...</td>\n",
       "      <td>2018-01-04</td>\n",
       "      <td>[Strategy, Action, Indie, Casual, Simulation]</td>\n",
       "      <td>http://steamcommunity.com/app/761140/reviews/?...</td>\n",
       "      <td>[Single-player]</td>\n",
       "      <td>4.99</td>\n",
       "      <td>0.0</td>\n",
       "      <td>761140.0</td>\n",
       "      <td>Kotoshiro</td>\n",
       "      <td>([Action, Casual, Indie, Simulation, Strategy]...</td>\n",
       "      <td>[Action, Casual, Indie, Simulation, Strategy]</td>\n",
       "    </tr>\n",
       "    <tr>\n",
       "      <th>1</th>\n",
       "      <td>Making Fun, Inc.</td>\n",
       "      <td>[Free to Play, Indie, RPG, Strategy]</td>\n",
       "      <td>Ironbound</td>\n",
       "      <td>Ironbound</td>\n",
       "      <td>http://store.steampowered.com/app/643980/Ironb...</td>\n",
       "      <td>2018-01-04</td>\n",
       "      <td>[Free to Play, Strategy, Indie, RPG, Card Game...</td>\n",
       "      <td>http://steamcommunity.com/app/643980/reviews/?...</td>\n",
       "      <td>[Single-player, Multi-player, Online Multi-Pla...</td>\n",
       "      <td>0.00</td>\n",
       "      <td>0.0</td>\n",
       "      <td>643980.0</td>\n",
       "      <td>Secret Level SRL</td>\n",
       "      <td>([Free to Play, Indie, RPG, Strategy], [Free t...</td>\n",
       "      <td>[Free to Play, Indie, RPG, Strategy, Card Game...</td>\n",
       "    </tr>\n",
       "    <tr>\n",
       "      <th>2</th>\n",
       "      <td>Poolians.com</td>\n",
       "      <td>[Casual, Free to Play, Indie, Simulation, Sports]</td>\n",
       "      <td>Real Pool 3D - Poolians</td>\n",
       "      <td>Real Pool 3D - Poolians</td>\n",
       "      <td>http://store.steampowered.com/app/670290/Real_...</td>\n",
       "      <td>2017-07-24</td>\n",
       "      <td>[Free to Play, Simulation, Sports, Casual, Ind...</td>\n",
       "      <td>http://steamcommunity.com/app/670290/reviews/?...</td>\n",
       "      <td>[Single-player, Multi-player, Online Multi-Pla...</td>\n",
       "      <td>0.00</td>\n",
       "      <td>0.0</td>\n",
       "      <td>670290.0</td>\n",
       "      <td>Poolians.com</td>\n",
       "      <td>([Casual, Free to Play, Indie, Simulation, Spo...</td>\n",
       "      <td>[Casual, Free to Play, Indie, Simulation, Spor...</td>\n",
       "    </tr>\n",
       "    <tr>\n",
       "      <th>3</th>\n",
       "      <td>彼岸领域</td>\n",
       "      <td>[Action, Adventure, Casual]</td>\n",
       "      <td>弹炸人2222</td>\n",
       "      <td>弹炸人2222</td>\n",
       "      <td>http://store.steampowered.com/app/767400/2222/</td>\n",
       "      <td>2017-12-07</td>\n",
       "      <td>[Action, Adventure, Casual]</td>\n",
       "      <td>http://steamcommunity.com/app/767400/reviews/?...</td>\n",
       "      <td>[Single-player]</td>\n",
       "      <td>0.99</td>\n",
       "      <td>0.0</td>\n",
       "      <td>767400.0</td>\n",
       "      <td>彼岸领域</td>\n",
       "      <td>([Action, Adventure, Casual], [Action, Adventu...</td>\n",
       "      <td>[Action, Adventure, Casual]</td>\n",
       "    </tr>\n",
       "    <tr>\n",
       "      <th>4</th>\n",
       "      <td>None</td>\n",
       "      <td>None</td>\n",
       "      <td>Log Challenge</td>\n",
       "      <td>None</td>\n",
       "      <td>http://store.steampowered.com/app/773570/Log_C...</td>\n",
       "      <td>None</td>\n",
       "      <td>[Action, Indie, Casual, Sports]</td>\n",
       "      <td>http://steamcommunity.com/app/773570/reviews/?...</td>\n",
       "      <td>[Single-player, Full controller support, HTC V...</td>\n",
       "      <td>2.99</td>\n",
       "      <td>0.0</td>\n",
       "      <td>773570.0</td>\n",
       "      <td>None</td>\n",
       "      <td>(None, [Action, Indie, Casual, Sports])</td>\n",
       "      <td>[Action, Indie, Casual, Sports]</td>\n",
       "    </tr>\n",
       "  </tbody>\n",
       "</table>\n",
       "</div>"
      ],
      "text/plain": [
       "          publisher                                             genres  \\\n",
       "0         Kotoshiro      [Action, Casual, Indie, Simulation, Strategy]   \n",
       "1  Making Fun, Inc.               [Free to Play, Indie, RPG, Strategy]   \n",
       "2      Poolians.com  [Casual, Free to Play, Indie, Simulation, Sports]   \n",
       "3              彼岸领域                        [Action, Adventure, Casual]   \n",
       "4              None                                               None   \n",
       "\n",
       "                  app_name                    title  \\\n",
       "0      Lost Summoner Kitty      Lost Summoner Kitty   \n",
       "1                Ironbound                Ironbound   \n",
       "2  Real Pool 3D - Poolians  Real Pool 3D - Poolians   \n",
       "3                  弹炸人2222                  弹炸人2222   \n",
       "4            Log Challenge                     None   \n",
       "\n",
       "                                                 url release_date  \\\n",
       "0  http://store.steampowered.com/app/761140/Lost_...   2018-01-04   \n",
       "1  http://store.steampowered.com/app/643980/Ironb...   2018-01-04   \n",
       "2  http://store.steampowered.com/app/670290/Real_...   2017-07-24   \n",
       "3     http://store.steampowered.com/app/767400/2222/   2017-12-07   \n",
       "4  http://store.steampowered.com/app/773570/Log_C...         None   \n",
       "\n",
       "                                                tags  \\\n",
       "0      [Strategy, Action, Indie, Casual, Simulation]   \n",
       "1  [Free to Play, Strategy, Indie, RPG, Card Game...   \n",
       "2  [Free to Play, Simulation, Sports, Casual, Ind...   \n",
       "3                        [Action, Adventure, Casual]   \n",
       "4                    [Action, Indie, Casual, Sports]   \n",
       "\n",
       "                                         reviews_url  \\\n",
       "0  http://steamcommunity.com/app/761140/reviews/?...   \n",
       "1  http://steamcommunity.com/app/643980/reviews/?...   \n",
       "2  http://steamcommunity.com/app/670290/reviews/?...   \n",
       "3  http://steamcommunity.com/app/767400/reviews/?...   \n",
       "4  http://steamcommunity.com/app/773570/reviews/?...   \n",
       "\n",
       "                                               specs  price  early_access  \\\n",
       "0                                    [Single-player]   4.99           0.0   \n",
       "1  [Single-player, Multi-player, Online Multi-Pla...   0.00           0.0   \n",
       "2  [Single-player, Multi-player, Online Multi-Pla...   0.00           0.0   \n",
       "3                                    [Single-player]   0.99           0.0   \n",
       "4  [Single-player, Full controller support, HTC V...   2.99           0.0   \n",
       "\n",
       "         id         developer  \\\n",
       "0  761140.0         Kotoshiro   \n",
       "1  643980.0  Secret Level SRL   \n",
       "2  670290.0      Poolians.com   \n",
       "3  767400.0              彼岸领域   \n",
       "4  773570.0              None   \n",
       "\n",
       "                                combined_tags_genres  \\\n",
       "0  ([Action, Casual, Indie, Simulation, Strategy]...   \n",
       "1  ([Free to Play, Indie, RPG, Strategy], [Free t...   \n",
       "2  ([Casual, Free to Play, Indie, Simulation, Spo...   \n",
       "3  ([Action, Adventure, Casual], [Action, Adventu...   \n",
       "4            (None, [Action, Indie, Casual, Sports])   \n",
       "\n",
       "                                   columna_combinada  \n",
       "0      [Action, Casual, Indie, Simulation, Strategy]  \n",
       "1  [Free to Play, Indie, RPG, Strategy, Card Game...  \n",
       "2  [Casual, Free to Play, Indie, Simulation, Spor...  \n",
       "3                        [Action, Adventure, Casual]  \n",
       "4                    [Action, Indie, Casual, Sports]  "
      ]
     },
     "execution_count": 20,
     "metadata": {},
     "output_type": "execute_result"
    }
   ],
   "source": [
    "games.head()"
   ]
  },
  {
   "cell_type": "markdown",
   "metadata": {},
   "source": [
    "Elimino columnas que no interesan\n"
   ]
  },
  {
   "cell_type": "code",
   "execution_count": 21,
   "metadata": {},
   "outputs": [],
   "source": [
    "games = games.drop(['genres', 'tags','reviews_url','combined_tags_genres','publisher','title','url','specs','early_access','id'],axis=1)\n",
    "games.rename(columns={'columna_combinada': 'genres'}, inplace=True)"
   ]
  },
  {
   "cell_type": "code",
   "execution_count": 23,
   "metadata": {},
   "outputs": [],
   "source": [
    "games = games.dropna(subset=['app_name', 'release_date', 'price','genres','developer'])\n"
   ]
  },
  {
   "cell_type": "code",
   "execution_count": 25,
   "metadata": {},
   "outputs": [],
   "source": [
    "games = games.reset_index(drop=True)"
   ]
  },
  {
   "cell_type": "code",
   "execution_count": 26,
   "metadata": {},
   "outputs": [
    {
     "data": {
      "text/html": [
       "<div>\n",
       "<style scoped>\n",
       "    .dataframe tbody tr th:only-of-type {\n",
       "        vertical-align: middle;\n",
       "    }\n",
       "\n",
       "    .dataframe tbody tr th {\n",
       "        vertical-align: top;\n",
       "    }\n",
       "\n",
       "    .dataframe thead th {\n",
       "        text-align: right;\n",
       "    }\n",
       "</style>\n",
       "<table border=\"1\" class=\"dataframe\">\n",
       "  <thead>\n",
       "    <tr style=\"text-align: right;\">\n",
       "      <th></th>\n",
       "      <th>app_name</th>\n",
       "      <th>release_date</th>\n",
       "      <th>price</th>\n",
       "      <th>developer</th>\n",
       "      <th>genres</th>\n",
       "    </tr>\n",
       "  </thead>\n",
       "  <tbody>\n",
       "    <tr>\n",
       "      <th>0</th>\n",
       "      <td>Lost Summoner Kitty</td>\n",
       "      <td>2018-01-04</td>\n",
       "      <td>4.99</td>\n",
       "      <td>Kotoshiro</td>\n",
       "      <td>[Action, Casual, Indie, Simulation, Strategy]</td>\n",
       "    </tr>\n",
       "    <tr>\n",
       "      <th>1</th>\n",
       "      <td>Ironbound</td>\n",
       "      <td>2018-01-04</td>\n",
       "      <td>0.00</td>\n",
       "      <td>Secret Level SRL</td>\n",
       "      <td>[Free to Play, Indie, RPG, Strategy, Card Game...</td>\n",
       "    </tr>\n",
       "    <tr>\n",
       "      <th>2</th>\n",
       "      <td>Real Pool 3D - Poolians</td>\n",
       "      <td>2017-07-24</td>\n",
       "      <td>0.00</td>\n",
       "      <td>Poolians.com</td>\n",
       "      <td>[Casual, Free to Play, Indie, Simulation, Spor...</td>\n",
       "    </tr>\n",
       "    <tr>\n",
       "      <th>3</th>\n",
       "      <td>弹炸人2222</td>\n",
       "      <td>2017-12-07</td>\n",
       "      <td>0.99</td>\n",
       "      <td>彼岸领域</td>\n",
       "      <td>[Action, Adventure, Casual]</td>\n",
       "    </tr>\n",
       "    <tr>\n",
       "      <th>4</th>\n",
       "      <td>Battle Royale Trainer</td>\n",
       "      <td>2018-01-04</td>\n",
       "      <td>3.99</td>\n",
       "      <td>Trickjump Games Ltd</td>\n",
       "      <td>[Action, Adventure, Simulation, FPS, Shooter, ...</td>\n",
       "    </tr>\n",
       "  </tbody>\n",
       "</table>\n",
       "</div>"
      ],
      "text/plain": [
       "                  app_name release_date  price            developer  \\\n",
       "0      Lost Summoner Kitty   2018-01-04   4.99            Kotoshiro   \n",
       "1                Ironbound   2018-01-04   0.00     Secret Level SRL   \n",
       "2  Real Pool 3D - Poolians   2017-07-24   0.00         Poolians.com   \n",
       "3                  弹炸人2222   2017-12-07   0.99                 彼岸领域   \n",
       "4    Battle Royale Trainer   2018-01-04   3.99  Trickjump Games Ltd   \n",
       "\n",
       "                                              genres  \n",
       "0      [Action, Casual, Indie, Simulation, Strategy]  \n",
       "1  [Free to Play, Indie, RPG, Strategy, Card Game...  \n",
       "2  [Casual, Free to Play, Indie, Simulation, Spor...  \n",
       "3                        [Action, Adventure, Casual]  \n",
       "4  [Action, Adventure, Simulation, FPS, Shooter, ...  "
      ]
     },
     "execution_count": 26,
     "metadata": {},
     "output_type": "execute_result"
    }
   ],
   "source": [
    "games.head()"
   ]
  },
  {
   "cell_type": "code",
   "execution_count": 29,
   "metadata": {},
   "outputs": [
    {
     "name": "stdout",
     "output_type": "stream",
     "text": [
      "Cantidad de filas duplicadas: 2\n"
     ]
    }
   ],
   "source": [
    "duplicados = games[[\"app_name\", \"release_date\", \"price\", \"developer\"]].duplicated().sum()\n",
    "print(\"Cantidad de filas duplicadas:\", duplicados)"
   ]
  },
  {
   "cell_type": "markdown",
   "metadata": {},
   "source": [
    "Elimino duplicados"
   ]
  },
  {
   "cell_type": "code",
   "execution_count": null,
   "metadata": {},
   "outputs": [],
   "source": [
    "games = games[~duplicados]"
   ]
  },
  {
   "cell_type": "code",
   "execution_count": 33,
   "metadata": {},
   "outputs": [
    {
     "name": "stdout",
     "output_type": "stream",
     "text": [
      "genres\n",
      "Indie                    15573\n",
      "Action                   11227\n",
      "Adventure                 8748\n",
      "Casual                    8656\n",
      "Strategy                  7074\n",
      "Simulation                6854\n",
      "RPG                       5423\n",
      "Singleplayer              4115\n",
      "Multiplayer               2184\n",
      "Great Soundtrack          2124\n",
      "Free to Play              2028\n",
      "Puzzle                    1980\n",
      "2D                        1901\n",
      "Atmospheric               1805\n",
      "Platformer                1396\n",
      "Story Rich                1384\n",
      "Early Access              1382\n",
      "Fantasy                   1259\n",
      "Sports                    1256\n",
      "Difficult                 1244\n",
      "Open World                1230\n",
      "Pixel Graphics            1216\n",
      "Sci-fi                    1195\n",
      "Female Protagonist        1131\n",
      "Co-op                     1131\n",
      "Massively Multiplayer     1122\n",
      "Horror                    1107\n",
      "Shooter                   1091\n",
      "Racing                    1087\n",
      "Anime                     1068\n",
      "Name: count, dtype: int64\n"
     ]
    }
   ],
   "source": [
    "games2=games\n",
    "# Asegúrate de que 'genres' contiene listas, si no, ajusta esta línea\n",
    "games2['genres'] = games['genres'].apply(lambda x: x if isinstance(x, list) else [])\n",
    "\n",
    "# Explode la columna 'genres' para convertir listas en filas separadas\n",
    "exploded_genres = games2.explode('genres')\n",
    "\n",
    "# Ahora puedes contar y obtener los 30 géneros más comunes\n",
    "top_genres = exploded_genres['genres'].value_counts().nlargest(30)\n",
    "\n",
    "print(top_genres)\n"
   ]
  },
  {
   "cell_type": "code",
   "execution_count": 48,
   "metadata": {},
   "outputs": [
    {
     "name": "stderr",
     "output_type": "stream",
     "text": [
      "C:\\Users\\Mike\\AppData\\Local\\Temp\\ipykernel_16840\\1818538564.py:2: FutureWarning: \n",
      "\n",
      "Passing `palette` without assigning `hue` is deprecated and will be removed in v0.14.0. Assign the `y` variable to `hue` and set `legend=False` for the same effect.\n",
      "\n",
      "  sns.barplot(y=top_genres.index, x=top_genres.values, palette='viridis')\n"
     ]
    },
    {
     "data": {
      "image/png": "[encoded data removed]",
      "text/plain": [
       "<Figure size 1400x1000 with 1 Axes>"
      ]
     },
     "metadata": {},
     "output_type": "display_data"
    }
   ],
   "source": [
    "plt.figure(figsize=(14, 10))\n",
    "sns.barplot(y=top_genres.index, x=top_genres.values, palette='viridis')\n",
    "\n",
    "# Añadir etiquetas de valor a cada barra\n",
    "for index, value in enumerate(top_genres.values):\n",
    "    plt.text(value, index, f'{value}', va='center', ha='left', color='black', fontsize=10)\n",
    "\n",
    "plt.xlabel('Cantidad', fontsize=12)\n",
    "plt.ylabel('Género', fontsize=12)\n",
    "plt.title('Generos con mas juegos', fontsize=16)\n",
    "plt.xticks(fontsize=10)\n",
    "plt.yticks(fontsize=10)\n",
    "\n",
    "plt.show()"
   ]
  },
  {
   "cell_type": "code",
   "execution_count": 47,
   "metadata": {},
   "outputs": [
    {
     "data": {
      "image/png": "[encoded data removed]",
      "text/plain": [
       "<Figure size 800x400 with 1 Axes>"
      ]
     },
     "metadata": {},
     "output_type": "display_data"
    }
   ],
   "source": [
    "sns.set_style(\"dark\")\n",
    "plt.figure(figsize=(8, 4))\n",
    "\n",
    "# Crear los datos\n",
    "prices = games['price']\n",
    "\n",
    "# Crear el gráfico con múltiples colores\n",
    "n_bins = 200\n",
    "colors = sns.color_palette(\"magma\", n_bins)\n",
    "n, bins, patches = plt.hist(prices, bins=n_bins, edgecolor='red')\n",
    "\n",
    "# Asignar los colores a cada barra del histograma\n",
    "for color, patch in zip(colors, patches):\n",
    "    patch.set_facecolor(color)\n",
    "\n",
    "# Agregar título y etiquetas\n",
    "plt.title('Distribución de Precios de Juegos', fontsize=16, fontweight='bold')\n",
    "plt.xlabel('Precio', fontsize=14)\n",
    "plt.ylabel('Frecuencia', fontsize=14)\n",
    "\n",
    "# Ajustar los márgenes\n",
    "plt.tight_layout()\n",
    "\n",
    "# Limitar el rango del eje x (precio)\n",
    "plt.xlim(0, 80)\n",
    "\n",
    "# Mostrar el gráfico\n",
    "plt.show()"
   ]
  },
  {
   "cell_type": "code",
   "execution_count": null,
   "metadata": {},
   "outputs": [],
   "source": []
  },
  {
   "cell_type": "markdown",
   "metadata": {},
   "source": [
    "--------------------------------------\n",
    "## EDA: user_reviews"
   ]
  },
  {
   "cell_type": "code",
   "execution_count": 50,
   "metadata": {},
   "outputs": [],
   "source": [
    "archivo = \"user_reviews.json.gz\"\n",
    "data = []\n",
    "\n",
    "with gzip.open(archivo, 'rt', encoding='utf-8') as file:\n",
    "    for line in file:\n",
    "        try:\n",
    "            json_data = ast.literal_eval(line)\n",
    "            data.append(json_data)\n",
    "        except ValueError as e:\n",
    "            print(f\"Error en la línea: {line}\")\n",
    "            continue\n",
    "\n",
    "reviews = pd.DataFrame(data)"
   ]
  },
  {
   "cell_type": "markdown",
   "metadata": {},
   "source": [
    "Vemos un primer vitazo de las primeras filas y las ultimas:"
   ]
  },
  {
   "cell_type": "code",
   "execution_count": 51,
   "metadata": {},
   "outputs": [
    {
     "data": {
      "text/html": [
       "<div>\n",
       "<style scoped>\n",
       "    .dataframe tbody tr th:only-of-type {\n",
       "        vertical-align: middle;\n",
       "    }\n",
       "\n",
       "    .dataframe tbody tr th {\n",
       "        vertical-align: top;\n",
       "    }\n",
       "\n",
       "    .dataframe thead th {\n",
       "        text-align: right;\n",
       "    }\n",
       "</style>\n",
       "<table border=\"1\" class=\"dataframe\">\n",
       "  <thead>\n",
       "    <tr style=\"text-align: right;\">\n",
       "      <th></th>\n",
       "      <th>user_id</th>\n",
       "      <th>user_url</th>\n",
       "      <th>reviews</th>\n",
       "    </tr>\n",
       "  </thead>\n",
       "  <tbody>\n",
       "    <tr>\n",
       "      <th>0</th>\n",
       "      <td>76561197970982479</td>\n",
       "      <td>http://steamcommunity.com/profiles/76561197970...</td>\n",
       "      <td>[{'funny': '', 'posted': 'Posted November 5, 2...</td>\n",
       "    </tr>\n",
       "    <tr>\n",
       "      <th>1</th>\n",
       "      <td>js41637</td>\n",
       "      <td>http://steamcommunity.com/id/js41637</td>\n",
       "      <td>[{'funny': '', 'posted': 'Posted June 24, 2014...</td>\n",
       "    </tr>\n",
       "    <tr>\n",
       "      <th>2</th>\n",
       "      <td>evcentric</td>\n",
       "      <td>http://steamcommunity.com/id/evcentric</td>\n",
       "      <td>[{'funny': '', 'posted': 'Posted February 3.',...</td>\n",
       "    </tr>\n",
       "    <tr>\n",
       "      <th>3</th>\n",
       "      <td>doctr</td>\n",
       "      <td>http://steamcommunity.com/id/doctr</td>\n",
       "      <td>[{'funny': '', 'posted': 'Posted October 14, 2...</td>\n",
       "    </tr>\n",
       "    <tr>\n",
       "      <th>4</th>\n",
       "      <td>maplemage</td>\n",
       "      <td>http://steamcommunity.com/id/maplemage</td>\n",
       "      <td>[{'funny': '3 people found this review funny',...</td>\n",
       "    </tr>\n",
       "  </tbody>\n",
       "</table>\n",
       "</div>"
      ],
      "text/plain": [
       "             user_id                                           user_url  \\\n",
       "0  76561197970982479  http://steamcommunity.com/profiles/76561197970...   \n",
       "1            js41637               http://steamcommunity.com/id/js41637   \n",
       "2          evcentric             http://steamcommunity.com/id/evcentric   \n",
       "3              doctr                 http://steamcommunity.com/id/doctr   \n",
       "4          maplemage             http://steamcommunity.com/id/maplemage   \n",
       "\n",
       "                                             reviews  \n",
       "0  [{'funny': '', 'posted': 'Posted November 5, 2...  \n",
       "1  [{'funny': '', 'posted': 'Posted June 24, 2014...  \n",
       "2  [{'funny': '', 'posted': 'Posted February 3.',...  \n",
       "3  [{'funny': '', 'posted': 'Posted October 14, 2...  \n",
       "4  [{'funny': '3 people found this review funny',...  "
      ]
     },
     "execution_count": 51,
     "metadata": {},
     "output_type": "execute_result"
    }
   ],
   "source": [
    "reviews.head()"
   ]
  },
  {
   "cell_type": "code",
   "execution_count": 53,
   "metadata": {},
   "outputs": [
    {
     "data": {
      "text/html": [
       "<div>\n",
       "<style scoped>\n",
       "    .dataframe tbody tr th:only-of-type {\n",
       "        vertical-align: middle;\n",
       "    }\n",
       "\n",
       "    .dataframe tbody tr th {\n",
       "        vertical-align: top;\n",
       "    }\n",
       "\n",
       "    .dataframe thead th {\n",
       "        text-align: right;\n",
       "    }\n",
       "</style>\n",
       "<table border=\"1\" class=\"dataframe\">\n",
       "  <thead>\n",
       "    <tr style=\"text-align: right;\">\n",
       "      <th></th>\n",
       "      <th>user_id</th>\n",
       "      <th>user_url</th>\n",
       "      <th>reviews</th>\n",
       "    </tr>\n",
       "  </thead>\n",
       "  <tbody>\n",
       "    <tr>\n",
       "      <th>25794</th>\n",
       "      <td>76561198306599751</td>\n",
       "      <td>http://steamcommunity.com/profiles/76561198306...</td>\n",
       "      <td>[{'funny': '', 'posted': 'Posted May 31.', 'la...</td>\n",
       "    </tr>\n",
       "    <tr>\n",
       "      <th>25795</th>\n",
       "      <td>Ghoustik</td>\n",
       "      <td>http://steamcommunity.com/id/Ghoustik</td>\n",
       "      <td>[{'funny': '', 'posted': 'Posted June 17.', 'l...</td>\n",
       "    </tr>\n",
       "    <tr>\n",
       "      <th>25796</th>\n",
       "      <td>76561198310819422</td>\n",
       "      <td>http://steamcommunity.com/profiles/76561198310...</td>\n",
       "      <td>[{'funny': '1 person found this review funny',...</td>\n",
       "    </tr>\n",
       "    <tr>\n",
       "      <th>25797</th>\n",
       "      <td>76561198312638244</td>\n",
       "      <td>http://steamcommunity.com/profiles/76561198312...</td>\n",
       "      <td>[{'funny': '', 'posted': 'Posted July 21.', 'l...</td>\n",
       "    </tr>\n",
       "    <tr>\n",
       "      <th>25798</th>\n",
       "      <td>LydiaMorley</td>\n",
       "      <td>http://steamcommunity.com/id/LydiaMorley</td>\n",
       "      <td>[{'funny': '1 person found this review funny',...</td>\n",
       "    </tr>\n",
       "  </tbody>\n",
       "</table>\n",
       "</div>"
      ],
      "text/plain": [
       "                 user_id                                           user_url  \\\n",
       "25794  76561198306599751  http://steamcommunity.com/profiles/76561198306...   \n",
       "25795           Ghoustik              http://steamcommunity.com/id/Ghoustik   \n",
       "25796  76561198310819422  http://steamcommunity.com/profiles/76561198310...   \n",
       "25797  76561198312638244  http://steamcommunity.com/profiles/76561198312...   \n",
       "25798        LydiaMorley           http://steamcommunity.com/id/LydiaMorley   \n",
       "\n",
       "                                                 reviews  \n",
       "25794  [{'funny': '', 'posted': 'Posted May 31.', 'la...  \n",
       "25795  [{'funny': '', 'posted': 'Posted June 17.', 'l...  \n",
       "25796  [{'funny': '1 person found this review funny',...  \n",
       "25797  [{'funny': '', 'posted': 'Posted July 21.', 'l...  \n",
       "25798  [{'funny': '1 person found this review funny',...  "
      ]
     },
     "execution_count": 53,
     "metadata": {},
     "output_type": "execute_result"
    }
   ],
   "source": [
    "reviews.tail()"
   ]
  },
  {
   "cell_type": "markdown",
   "metadata": {},
   "source": [
    "Notamos que la columna 'reviews' esta anidada y que tiene informacion importante siendo estas una lista de diccionarios:"
   ]
  },
  {
   "cell_type": "code",
   "execution_count": 54,
   "metadata": {},
   "outputs": [
    {
     "data": {
      "text/plain": [
       "[{'funny': '',\n",
       "  'posted': 'Posted November 5, 2011.',\n",
       "  'last_edited': '',\n",
       "  'item_id': '1250',\n",
       "  'helpful': 'No ratings yet',\n",
       "  'recommend': True,\n",
       "  'review': 'Simple yet with great replayability. In my opinion does \"zombie\" hordes and team work better than left 4 dead plus has a global leveling system. Alot of down to earth \"zombie\" splattering fun for the whole family. Amazed this sort of FPS is so rare.'},\n",
       " {'funny': '',\n",
       "  'posted': 'Posted July 15, 2011.',\n",
       "  'last_edited': '',\n",
       "  'item_id': '22200',\n",
       "  'helpful': 'No ratings yet',\n",
       "  'recommend': True,\n",
       "  'review': \"It's unique and worth a playthrough.\"},\n",
       " {'funny': '',\n",
       "  'posted': 'Posted April 21, 2011.',\n",
       "  'last_edited': '',\n",
       "  'item_id': '43110',\n",
       "  'helpful': 'No ratings yet',\n",
       "  'recommend': True,\n",
       "  'review': 'Great atmosphere. The gunplay can be a bit chunky at times but at the end of the day this game is definitely worth it and I hope they do a sequel...so buy the game so I get a sequel!'}]"
      ]
     },
     "execution_count": 54,
     "metadata": {},
     "output_type": "execute_result"
    }
   ],
   "source": [
    "reviews.loc[0,'reviews']"
   ]
  },
  {
   "cell_type": "markdown",
   "metadata": {},
   "source": [
    "De esta columna anidada los valores que necesitaremos para el proyecto son items_count\" e \"items\". Ahora vemos la información general de los datos:"
   ]
  },
  {
   "cell_type": "code",
   "execution_count": 55,
   "metadata": {},
   "outputs": [
    {
     "name": "stdout",
     "output_type": "stream",
     "text": [
      "<class 'pandas.core.frame.DataFrame'>\n",
      "RangeIndex: 25799 entries, 0 to 25798\n",
      "Data columns (total 3 columns):\n",
      " #   Column    Non-Null Count  Dtype \n",
      "---  ------    --------------  ----- \n",
      " 0   user_id   25799 non-null  object\n",
      " 1   user_url  25799 non-null  object\n",
      " 2   reviews   25799 non-null  object\n",
      "dtypes: object(3)\n",
      "memory usage: 604.8+ KB\n"
     ]
    }
   ],
   "source": [
    "reviews.info()"
   ]
  },
  {
   "cell_type": "markdown",
   "metadata": {},
   "source": [
    "No vemos nulos en las filas de acuerdo a la informacón general. La cantidad de filas y columnasque hay son:"
   ]
  },
  {
   "cell_type": "code",
   "execution_count": 56,
   "metadata": {},
   "outputs": [
    {
     "name": "stdout",
     "output_type": "stream",
     "text": [
      "La cantidad de filas son: 25799 y de columnas son: 3\n"
     ]
    }
   ],
   "source": [
    "print(f'La cantidad de filas son: {reviews.shape[0]} y de columnas son: {reviews.shape[1]}')"
   ]
  },
  {
   "cell_type": "markdown",
   "metadata": {},
   "source": [
    "Notamos que en este caso solo necesitariamos las columnas: \"user_id\" y \"reviews\" para trabajar y descartar \"user_url\". La columna 'user_id' permite conectar con la columna \"id\" del dataset **steam_games**. Vemos la cantidad de filas duplicadas que hay:"
   ]
  },
  {
   "cell_type": "code",
   "execution_count": 57,
   "metadata": {},
   "outputs": [
    {
     "data": {
      "text/plain": [
       "314"
      ]
     },
     "execution_count": 57,
     "metadata": {},
     "output_type": "execute_result"
    }
   ],
   "source": [
    "#Filas duplicadas sin tener en cuenta la columna reviews que es una lista de diccionarios.\n",
    "reviews[['user_id','user_url']].duplicated().sum()"
   ]
  },
  {
   "cell_type": "markdown",
   "metadata": {},
   "source": [
    "------------------------\n",
    "## EDA: user_items"
   ]
  },
  {
   "cell_type": "code",
   "execution_count": 59,
   "metadata": {},
   "outputs": [],
   "source": [
    "items = pd.read_parquet('australian_users_items.parquet')"
   ]
  },
  {
   "cell_type": "code",
   "execution_count": 60,
   "metadata": {},
   "outputs": [
    {
     "data": {
      "text/html": [
       "<div>\n",
       "<style scoped>\n",
       "    .dataframe tbody tr th:only-of-type {\n",
       "        vertical-align: middle;\n",
       "    }\n",
       "\n",
       "    .dataframe tbody tr th {\n",
       "        vertical-align: top;\n",
       "    }\n",
       "\n",
       "    .dataframe thead th {\n",
       "        text-align: right;\n",
       "    }\n",
       "</style>\n",
       "<table border=\"1\" class=\"dataframe\">\n",
       "  <thead>\n",
       "    <tr style=\"text-align: right;\">\n",
       "      <th></th>\n",
       "      <th>user_id</th>\n",
       "      <th>items_count</th>\n",
       "      <th>steam_id</th>\n",
       "      <th>user_url</th>\n",
       "      <th>items</th>\n",
       "    </tr>\n",
       "  </thead>\n",
       "  <tbody>\n",
       "    <tr>\n",
       "      <th>0</th>\n",
       "      <td>76561197970982479</td>\n",
       "      <td>277</td>\n",
       "      <td>76561197970982480</td>\n",
       "      <td>http://steamcommunity.com/profiles/76561197970...</td>\n",
       "      <td>[{'item_id': '10', 'item_name': 'Counter-Strik...</td>\n",
       "    </tr>\n",
       "    <tr>\n",
       "      <th>1</th>\n",
       "      <td>js41637</td>\n",
       "      <td>888</td>\n",
       "      <td>76561198035864384</td>\n",
       "      <td>http://steamcommunity.com/id/js41637</td>\n",
       "      <td>[{'item_id': '10', 'item_name': 'Counter-Strik...</td>\n",
       "    </tr>\n",
       "    <tr>\n",
       "      <th>2</th>\n",
       "      <td>evcentric</td>\n",
       "      <td>137</td>\n",
       "      <td>76561198007712560</td>\n",
       "      <td>http://steamcommunity.com/id/evcentric</td>\n",
       "      <td>[{'item_id': '1200', 'item_name': 'Red Orchest...</td>\n",
       "    </tr>\n",
       "    <tr>\n",
       "      <th>3</th>\n",
       "      <td>Riot-Punch</td>\n",
       "      <td>328</td>\n",
       "      <td>76561197963445856</td>\n",
       "      <td>http://steamcommunity.com/id/Riot-Punch</td>\n",
       "      <td>[{'item_id': '10', 'item_name': 'Counter-Strik...</td>\n",
       "    </tr>\n",
       "    <tr>\n",
       "      <th>4</th>\n",
       "      <td>doctr</td>\n",
       "      <td>541</td>\n",
       "      <td>76561198002099488</td>\n",
       "      <td>http://steamcommunity.com/id/doctr</td>\n",
       "      <td>[{'item_id': '300', 'item_name': 'Day of Defea...</td>\n",
       "    </tr>\n",
       "  </tbody>\n",
       "</table>\n",
       "</div>"
      ],
      "text/plain": [
       "             user_id  items_count           steam_id  \\\n",
       "0  76561197970982479          277  76561197970982480   \n",
       "1            js41637          888  76561198035864384   \n",
       "2          evcentric          137  76561198007712560   \n",
       "3         Riot-Punch          328  76561197963445856   \n",
       "4              doctr          541  76561198002099488   \n",
       "\n",
       "                                            user_url  \\\n",
       "0  http://steamcommunity.com/profiles/76561197970...   \n",
       "1               http://steamcommunity.com/id/js41637   \n",
       "2             http://steamcommunity.com/id/evcentric   \n",
       "3            http://steamcommunity.com/id/Riot-Punch   \n",
       "4                 http://steamcommunity.com/id/doctr   \n",
       "\n",
       "                                               items  \n",
       "0  [{'item_id': '10', 'item_name': 'Counter-Strik...  \n",
       "1  [{'item_id': '10', 'item_name': 'Counter-Strik...  \n",
       "2  [{'item_id': '1200', 'item_name': 'Red Orchest...  \n",
       "3  [{'item_id': '10', 'item_name': 'Counter-Strik...  \n",
       "4  [{'item_id': '300', 'item_name': 'Day of Defea...  "
      ]
     },
     "execution_count": 60,
     "metadata": {},
     "output_type": "execute_result"
    }
   ],
   "source": [
    "items.head()"
   ]
  },
  {
   "cell_type": "code",
   "execution_count": 61,
   "metadata": {},
   "outputs": [
    {
     "data": {
      "text/html": [
       "<div>\n",
       "<style scoped>\n",
       "    .dataframe tbody tr th:only-of-type {\n",
       "        vertical-align: middle;\n",
       "    }\n",
       "\n",
       "    .dataframe tbody tr th {\n",
       "        vertical-align: top;\n",
       "    }\n",
       "\n",
       "    .dataframe thead th {\n",
       "        text-align: right;\n",
       "    }\n",
       "</style>\n",
       "<table border=\"1\" class=\"dataframe\">\n",
       "  <thead>\n",
       "    <tr style=\"text-align: right;\">\n",
       "      <th></th>\n",
       "      <th>user_id</th>\n",
       "      <th>items_count</th>\n",
       "      <th>steam_id</th>\n",
       "      <th>user_url</th>\n",
       "      <th>items</th>\n",
       "    </tr>\n",
       "  </thead>\n",
       "  <tbody>\n",
       "    <tr>\n",
       "      <th>88305</th>\n",
       "      <td>76561198323066619</td>\n",
       "      <td>22</td>\n",
       "      <td>76561198323066624</td>\n",
       "      <td>http://steamcommunity.com/profiles/76561198323...</td>\n",
       "      <td>[{'item_id': '413850', 'item_name': 'CS:GO Pla...</td>\n",
       "    </tr>\n",
       "    <tr>\n",
       "      <th>88306</th>\n",
       "      <td>76561198326700687</td>\n",
       "      <td>177</td>\n",
       "      <td>76561198326700688</td>\n",
       "      <td>http://steamcommunity.com/profiles/76561198326...</td>\n",
       "      <td>[{'item_id': '11020', 'item_name': 'TrackMania...</td>\n",
       "    </tr>\n",
       "    <tr>\n",
       "      <th>88307</th>\n",
       "      <td>XxLaughingJackClown77xX</td>\n",
       "      <td>0</td>\n",
       "      <td>76561198328759264</td>\n",
       "      <td>http://steamcommunity.com/id/XxLaughingJackClo...</td>\n",
       "      <td>[]</td>\n",
       "    </tr>\n",
       "    <tr>\n",
       "      <th>88308</th>\n",
       "      <td>76561198329548331</td>\n",
       "      <td>7</td>\n",
       "      <td>76561198329548336</td>\n",
       "      <td>http://steamcommunity.com/profiles/76561198329...</td>\n",
       "      <td>[{'item_id': '304930', 'item_name': 'Unturned'...</td>\n",
       "    </tr>\n",
       "    <tr>\n",
       "      <th>88309</th>\n",
       "      <td>edward_tremethick</td>\n",
       "      <td>0</td>\n",
       "      <td>76561198331598576</td>\n",
       "      <td>http://steamcommunity.com/id/edward_tremethick</td>\n",
       "      <td>[]</td>\n",
       "    </tr>\n",
       "  </tbody>\n",
       "</table>\n",
       "</div>"
      ],
      "text/plain": [
       "                       user_id  items_count           steam_id  \\\n",
       "88305        76561198323066619           22  76561198323066624   \n",
       "88306        76561198326700687          177  76561198326700688   \n",
       "88307  XxLaughingJackClown77xX            0  76561198328759264   \n",
       "88308        76561198329548331            7  76561198329548336   \n",
       "88309        edward_tremethick            0  76561198331598576   \n",
       "\n",
       "                                                user_url  \\\n",
       "88305  http://steamcommunity.com/profiles/76561198323...   \n",
       "88306  http://steamcommunity.com/profiles/76561198326...   \n",
       "88307  http://steamcommunity.com/id/XxLaughingJackClo...   \n",
       "88308  http://steamcommunity.com/profiles/76561198329...   \n",
       "88309     http://steamcommunity.com/id/edward_tremethick   \n",
       "\n",
       "                                                   items  \n",
       "88305  [{'item_id': '413850', 'item_name': 'CS:GO Pla...  \n",
       "88306  [{'item_id': '11020', 'item_name': 'TrackMania...  \n",
       "88307                                                 []  \n",
       "88308  [{'item_id': '304930', 'item_name': 'Unturned'...  \n",
       "88309                                                 []  "
      ]
     },
     "execution_count": 61,
     "metadata": {},
     "output_type": "execute_result"
    }
   ],
   "source": [
    "items.tail()"
   ]
  },
  {
   "cell_type": "markdown",
   "metadata": {},
   "source": [
    "Notamos la columna items como lista de diccionarios con datos imposrantes como 'item_id' para conectar con los otras datasets:"
   ]
  },
  {
   "cell_type": "code",
   "execution_count": 62,
   "metadata": {},
   "outputs": [
    {
     "data": {
      "text/plain": [
       "array([{'item_id': '10', 'item_name': 'Counter-Strike', 'playtime_2weeks': 0, 'playtime_forever': 6},\n",
       "       {'item_id': '20', 'item_name': 'Team Fortress Classic', 'playtime_2weeks': 0, 'playtime_forever': 0},\n",
       "       {'item_id': '30', 'item_name': 'Day of Defeat', 'playtime_2weeks': 0, 'playtime_forever': 7},\n",
       "       {'item_id': '40', 'item_name': 'Deathmatch Classic', 'playtime_2weeks': 0, 'playtime_forever': 0},\n",
       "       {'item_id': '50', 'item_name': 'Half-Life: Opposing Force', 'playtime_2weeks': 0, 'playtime_forever': 0},\n",
       "       {'item_id': '60', 'item_name': 'Ricochet', 'playtime_2weeks': 0, 'playtime_forever': 0},\n",
       "       {'item_id': '70', 'item_name': 'Half-Life', 'playtime_2weeks': 0, 'playtime_forever': 0},\n",
       "       {'item_id': '130', 'item_name': 'Half-Life: Blue Shift', 'playtime_2weeks': 0, 'playtime_forever': 0},\n",
       "       {'item_id': '300', 'item_name': 'Day of Defeat: Source', 'playtime_2weeks': 0, 'playtime_forever': 4733},\n",
       "       {'item_id': '240', 'item_name': 'Counter-Strike: Source', 'playtime_2weeks': 0, 'playtime_forever': 1853},\n",
       "       {'item_id': '3830', 'item_name': 'Psychonauts', 'playtime_2weeks': 0, 'playtime_forever': 333},\n",
       "       {'item_id': '2630', 'item_name': 'Call of Duty 2', 'playtime_2weeks': 0, 'playtime_forever': 75},\n",
       "       {'item_id': '3900', 'item_name': \"Sid Meier's Civilization IV\", 'playtime_2weeks': 0, 'playtime_forever': 338},\n",
       "       {'item_id': '34440', 'item_name': \"Sid Meier's Civilization IV\", 'playtime_2weeks': 0, 'playtime_forever': 0},\n",
       "       {'item_id': '3920', 'item_name': \"Sid Meier's Pirates!\", 'playtime_2weeks': 0, 'playtime_forever': 2},\n",
       "       {'item_id': '6400', 'item_name': 'Joint Task Force', 'playtime_2weeks': 0, 'playtime_forever': 286},\n",
       "       {'item_id': '6910', 'item_name': 'Deus Ex: Game of the Year Edition', 'playtime_2weeks': 0, 'playtime_forever': 2685},\n",
       "       {'item_id': '7670', 'item_name': 'BioShock', 'playtime_2weeks': 0, 'playtime_forever': 633},\n",
       "       {'item_id': '409710', 'item_name': 'BioShock Remastered', 'playtime_2weeks': 0, 'playtime_forever': 0},\n",
       "       {'item_id': '220', 'item_name': 'Half-Life 2', 'playtime_2weeks': 0, 'playtime_forever': 696},\n",
       "       {'item_id': '320', 'item_name': 'Half-Life 2: Deathmatch', 'playtime_2weeks': 0, 'playtime_forever': 0},\n",
       "       {'item_id': '340', 'item_name': 'Half-Life 2: Lost Coast', 'playtime_2weeks': 0, 'playtime_forever': 37},\n",
       "       {'item_id': '360', 'item_name': 'Half-Life Deathmatch: Source', 'playtime_2weeks': 0, 'playtime_forever': 0},\n",
       "       {'item_id': '380', 'item_name': 'Half-Life 2: Episode One', 'playtime_2weeks': 0, 'playtime_forever': 168},\n",
       "       {'item_id': '400', 'item_name': 'Portal', 'playtime_2weeks': 0, 'playtime_forever': 173},\n",
       "       {'item_id': '420', 'item_name': 'Half-Life 2: Episode Two', 'playtime_2weeks': 0, 'playtime_forever': 323},\n",
       "       {'item_id': '9340', 'item_name': 'Company of Heroes: Opposing Fronts', 'playtime_2weeks': 0, 'playtime_forever': 692},\n",
       "       {'item_id': '228200', 'item_name': 'Company of Heroes (New Steam Version)', 'playtime_2weeks': 0, 'playtime_forever': 0},\n",
       "       {'item_id': '11450', 'item_name': 'Overlord', 'playtime_2weeks': 0, 'playtime_forever': 0},\n",
       "       {'item_id': '7940', 'item_name': 'Call of Duty 4: Modern Warfare', 'playtime_2weeks': 0, 'playtime_forever': 1185},\n",
       "       {'item_id': '4700', 'item_name': 'Medieval II: Total War', 'playtime_2weeks': 0, 'playtime_forever': 477},\n",
       "       {'item_id': '12900', 'item_name': 'Audiosurf', 'playtime_2weeks': 0, 'playtime_forever': 115},\n",
       "       {'item_id': '13250', 'item_name': 'Unreal Gold', 'playtime_2weeks': 0, 'playtime_forever': 0},\n",
       "       {'item_id': '16100', 'item_name': 'Virtual Villagers: A New Home', 'playtime_2weeks': 0, 'playtime_forever': 0},\n",
       "       {'item_id': '15700', 'item_name': \"Oddworld: Abe's Oddysee\", 'playtime_2weeks': 0, 'playtime_forever': 28},\n",
       "       {'item_id': '15710', 'item_name': \"Oddworld: Abe's Exoddus\", 'playtime_2weeks': 0, 'playtime_forever': 0},\n",
       "       {'item_id': '17330', 'item_name': 'Crysis Warhead', 'playtime_2weeks': 0, 'playtime_forever': 31},\n",
       "       {'item_id': '17340', 'item_name': 'Crysis Wars', 'playtime_2weeks': 0, 'playtime_forever': 0},\n",
       "       {'item_id': '22000', 'item_name': 'World of Goo', 'playtime_2weeks': 0, 'playtime_forever': 195},\n",
       "       {'item_id': '500', 'item_name': 'Left 4 Dead', 'playtime_2weeks': 0, 'playtime_forever': 513},\n",
       "       {'item_id': '4560', 'item_name': 'Company of Heroes', 'playtime_2weeks': 0, 'playtime_forever': 1061},\n",
       "       {'item_id': '17460', 'item_name': 'Mass Effect', 'playtime_2weeks': 0, 'playtime_forever': 1613},\n",
       "       {'item_id': '10500', 'item_name': 'Empire: Total War', 'playtime_2weeks': 0, 'playtime_forever': 186},\n",
       "       {'item_id': '24740', 'item_name': 'Burnout Paradise: The Ultimate Box', 'playtime_2weeks': 0, 'playtime_forever': 0},\n",
       "       {'item_id': '22200', 'item_name': 'Zeno Clash', 'playtime_2weeks': 0, 'playtime_forever': 271},\n",
       "       {'item_id': '26800', 'item_name': 'Braid', 'playtime_2weeks': 0, 'playtime_forever': 445},\n",
       "       {'item_id': '1250', 'item_name': 'Killing Floor', 'playtime_2weeks': 0, 'playtime_forever': 10006},\n",
       "       {'item_id': '35420', 'item_name': 'Killing Floor Mod: Defence Alliance 2', 'playtime_2weeks': 0, 'playtime_forever': 0},\n",
       "       {'item_id': '3590', 'item_name': 'Plants vs. Zombies: Game of the Year', 'playtime_2weeks': 0, 'playtime_forever': 4413},\n",
       "       {'item_id': '8880', 'item_name': 'Freedom Force', 'playtime_2weeks': 0, 'playtime_forever': 0},\n",
       "       {'item_id': '8890', 'item_name': 'Freedom Force vs. the 3rd Reich', 'playtime_2weeks': 0, 'playtime_forever': 0},\n",
       "       {'item_id': '23120', 'item_name': 'Droplitz', 'playtime_2weeks': 0, 'playtime_forever': 53},\n",
       "       {'item_id': '35700', 'item_name': 'Trine', 'playtime_2weeks': 0, 'playtime_forever': 199},\n",
       "       {'item_id': '10140', 'item_name': '3D Ultra Minigolf Adventures Deluxe', 'playtime_2weeks': 0, 'playtime_forever': 25},\n",
       "       {'item_id': '35010', 'item_name': 'Batman: Arkham Asylum', 'playtime_2weeks': 0, 'playtime_forever': 570},\n",
       "       {'item_id': '35140', 'item_name': 'Batman: Arkham Asylum GOTY Edition', 'playtime_2weeks': 0, 'playtime_forever': 0},\n",
       "       {'item_id': '29180', 'item_name': 'Osmos', 'playtime_2weeks': 0, 'playtime_forever': 940},\n",
       "       {'item_id': '15520', 'item_name': 'AaAaAA!!! - A Reckless Disregard for Gravity', 'playtime_2weeks': 0, 'playtime_forever': 110},\n",
       "       {'item_id': '32370', 'item_name': 'STAR WARS™: Knights of the Old Republic™', 'playtime_2weeks': 0, 'playtime_forever': 5},\n",
       "       {'item_id': '37700', 'item_name': 'Darkest of Days', 'playtime_2weeks': 0, 'playtime_forever': 782},\n",
       "       {'item_id': '6020', 'item_name': 'STAR WARS™ Jedi Knight: Jedi Academy™', 'playtime_2weeks': 0, 'playtime_forever': 77},\n",
       "       {'item_id': '24860', 'item_name': 'Battlefield 2', 'playtime_2weeks': 0, 'playtime_forever': 437},\n",
       "       {'item_id': '39530', 'item_name': 'Painkiller: Black Edition', 'playtime_2weeks': 0, 'playtime_forever': 503},\n",
       "       {'item_id': '550', 'item_name': 'Left 4 Dead 2', 'playtime_2weeks': 0, 'playtime_forever': 1474},\n",
       "       {'item_id': '223530', 'item_name': 'Left 4 Dead 2 Beta', 'playtime_2weeks': 0, 'playtime_forever': 0},\n",
       "       {'item_id': '8980', 'item_name': 'Borderlands', 'playtime_2weeks': 0, 'playtime_forever': 3061},\n",
       "       {'item_id': '41500', 'item_name': 'Torchlight', 'playtime_2weeks': 0, 'playtime_forever': 536},\n",
       "       {'item_id': '20900', 'item_name': 'The Witcher: Enhanced Edition', 'playtime_2weeks': 0, 'playtime_forever': 139},\n",
       "       {'item_id': '10180', 'item_name': 'Call of Duty: Modern Warfare 2', 'playtime_2weeks': 0, 'playtime_forever': 1886},\n",
       "       {'item_id': '10190', 'item_name': 'Call of Duty: Modern Warfare 2 - Multiplayer', 'playtime_2weeks': 0, 'playtime_forever': 1784},\n",
       "       {'item_id': '17450', 'item_name': 'Dragon Age: Origins', 'playtime_2weeks': 0, 'playtime_forever': 4431},\n",
       "       {'item_id': '3170', 'item_name': \"King's Bounty: Armored Princess\", 'playtime_2weeks': 0, 'playtime_forever': 1021},\n",
       "       {'item_id': '25900', 'item_name': \"King's Bounty: The Legend\", 'playtime_2weeks': 0, 'playtime_forever': 1389},\n",
       "       {'item_id': '31410', 'item_name': 'Zombie Driver', 'playtime_2weeks': 0, 'playtime_forever': 95},\n",
       "       {'item_id': '24980', 'item_name': 'Mass Effect 2', 'playtime_2weeks': 0, 'playtime_forever': 5001},\n",
       "       {'item_id': '8850', 'item_name': 'BioShock 2', 'playtime_2weeks': 0, 'playtime_forever': 1504},\n",
       "       {'item_id': '409720', 'item_name': 'BioShock 2 Remastered', 'playtime_2weeks': 0, 'playtime_forever': 0},\n",
       "       {'item_id': '46000', 'item_name': 'Bob Came in Pieces', 'playtime_2weeks': 0, 'playtime_forever': 11},\n",
       "       {'item_id': '33230', 'item_name': \"Assassin's Creed II\", 'playtime_2weeks': 0, 'playtime_forever': 1636},\n",
       "       {'item_id': '20820', 'item_name': 'Shatter', 'playtime_2weeks': 0, 'playtime_forever': 46},\n",
       "       {'item_id': '47700', 'item_name': 'Command and Conquer 4: Tiberian Twilight', 'playtime_2weeks': 0, 'playtime_forever': 85},\n",
       "       {'item_id': '24960', 'item_name': 'Battlefield: Bad Company 2', 'playtime_2weeks': 0, 'playtime_forever': 5716},\n",
       "       {'item_id': '43110', 'item_name': 'Metro 2033', 'playtime_2weeks': 0, 'playtime_forever': 834},\n",
       "       {'item_id': '8190', 'item_name': 'Just Cause 2', 'playtime_2weeks': 0, 'playtime_forever': 3083},\n",
       "       {'item_id': '49600', 'item_name': 'Beat Hazard', 'playtime_2weeks': 0, 'playtime_forever': 127},\n",
       "       {'item_id': '31220', 'item_name': 'Sam & Max 301: The Penal Zone', 'playtime_2weeks': 0, 'playtime_forever': 71},\n",
       "       {'item_id': '31230', 'item_name': 'Sam & Max 302: The Tomb of Sammun-Mak', 'playtime_2weeks': 0, 'playtime_forever': 0},\n",
       "       {'item_id': '31240', 'item_name': \"Sam & Max 303: They Stole Max's Brain!\", 'playtime_2weeks': 0, 'playtime_forever': 0},\n",
       "       {'item_id': '31250', 'item_name': 'Sam & Max 304: Beyond the Alley of the Dolls', 'playtime_2weeks': 0, 'playtime_forever': 0},\n",
       "       {'item_id': '31260', 'item_name': 'Sam & Max 305: The City that Dares not Sleep', 'playtime_2weeks': 0, 'playtime_forever': 0},\n",
       "       {'item_id': '21090', 'item_name': 'F.E.A.R.', 'playtime_2weeks': 0, 'playtime_forever': 585},\n",
       "       {'item_id': '21110', 'item_name': 'F.E.A.R.: Extraction Point', 'playtime_2weeks': 0, 'playtime_forever': 146},\n",
       "       {'item_id': '21120', 'item_name': 'F.E.A.R.: Perseus Mandate', 'playtime_2weeks': 0, 'playtime_forever': 0},\n",
       "       {'item_id': '49400', 'item_name': 'Magic: The Gathering - Duels of the Planeswalkers', 'playtime_2weeks': 0, 'playtime_forever': 32},\n",
       "       {'item_id': '33910', 'item_name': 'Arma 2', 'playtime_2weeks': 0, 'playtime_forever': 3},\n",
       "       {'item_id': '33930', 'item_name': 'Arma 2: Operation Arrowhead', 'playtime_2weeks': 0, 'playtime_forever': 3},\n",
       "       {'item_id': '219540', 'item_name': 'Arma 2: Operation Arrowhead Beta (Obsolete)', 'playtime_2weeks': 0, 'playtime_forever': 0},\n",
       "       {'item_id': '17410', 'item_name': \"Mirror's Edge\", 'playtime_2weeks': 0, 'playtime_forever': 0},\n",
       "       {'item_id': '205790', 'item_name': 'Dota 2 Test', 'playtime_2weeks': 0, 'playtime_forever': 0},\n",
       "       {'item_id': '50130', 'item_name': 'Mafia II', 'playtime_2weeks': 0, 'playtime_forever': 707},\n",
       "       {'item_id': '62100', 'item_name': 'Chime', 'playtime_2weeks': 0, 'playtime_forever': 50},\n",
       "       {'item_id': '31280', 'item_name': 'Poker Night at the Inventory', 'playtime_2weeks': 0, 'playtime_forever': 206},\n",
       "       {'item_id': '57300', 'item_name': 'Amnesia: The Dark Descent', 'playtime_2weeks': 0, 'playtime_forever': 12},\n",
       "       {'item_id': '21970', 'item_name': 'R.U.S.E', 'playtime_2weeks': 0, 'playtime_forever': 64},\n",
       "       {'item_id': '8930', 'item_name': \"Sid Meier's Civilization V\", 'playtime_2weeks': 0, 'playtime_forever': 10345},\n",
       "       {'item_id': '41000', 'item_name': 'Serious Sam HD: The First Encounter', 'playtime_2weeks': 0, 'playtime_forever': 369},\n",
       "       {'item_id': '41050', 'item_name': 'Serious Sam Classic: The First Encounter', 'playtime_2weeks': 0, 'playtime_forever': 76},\n",
       "       {'item_id': '41060', 'item_name': 'Serious Sam Classic: The Second Encounter', 'playtime_2weeks': 0, 'playtime_forever': 0},\n",
       "       {'item_id': '227780', 'item_name': 'Serious Sam Classics: Revolution', 'playtime_2weeks': 0, 'playtime_forever': 0},\n",
       "       {'item_id': '18040', 'item_name': 'DeathSpank', 'playtime_2weeks': 0, 'playtime_forever': 594},\n",
       "       {'item_id': '22380', 'item_name': 'Fallout: New Vegas', 'playtime_2weeks': 0, 'playtime_forever': 43},\n",
       "       {'item_id': '42700', 'item_name': 'Call of Duty: Black Ops', 'playtime_2weeks': 0, 'playtime_forever': 966},\n",
       "       {'item_id': '42710', 'item_name': 'Call of Duty: Black Ops - Multiplayer', 'playtime_2weeks': 0, 'playtime_forever': 2452},\n",
       "       {'item_id': '62000', 'item_name': 'Flight Control HD', 'playtime_2weeks': 0, 'playtime_forever': 25},\n",
       "       {'item_id': '40800', 'item_name': 'Super Meat Boy', 'playtime_2weeks': 0, 'playtime_forever': 119},\n",
       "       {'item_id': '9500', 'item_name': 'Gish', 'playtime_2weeks': 0, 'playtime_forever': 6},\n",
       "       {'item_id': '18700', 'item_name': 'And Yet It Moves', 'playtime_2weeks': 0, 'playtime_forever': 0},\n",
       "       {'item_id': '31270', 'item_name': 'Puzzle Agent', 'playtime_2weeks': 0, 'playtime_forever': 0},\n",
       "       {'item_id': '58200', 'item_name': 'Jolly Rover', 'playtime_2weeks': 0, 'playtime_forever': 0},\n",
       "       {'item_id': '70400', 'item_name': \"Recettear: An Item Shop's Tale\", 'playtime_2weeks': 0, 'playtime_forever': 537},\n",
       "       {'item_id': '41300', 'item_name': 'Altitude', 'playtime_2weeks': 0, 'playtime_forever': 50},\n",
       "       {'item_id': '41800', 'item_name': 'Gratuitous Space Battles', 'playtime_2weeks': 0, 'playtime_forever': 149},\n",
       "       {'item_id': '42500', 'item_name': 'DogFighter', 'playtime_2weeks': 0, 'playtime_forever': 0},\n",
       "       {'item_id': '49900', 'item_name': 'Plain Sight', 'playtime_2weeks': 0, 'playtime_forever': 23},\n",
       "       {'item_id': '55000', 'item_name': 'Flotilla', 'playtime_2weeks': 0, 'playtime_forever': 0},\n",
       "       {'item_id': '34330', 'item_name': 'Total War: SHOGUN 2', 'playtime_2weeks': 0, 'playtime_forever': 1538},\n",
       "       {'item_id': '63200', 'item_name': 'Monday Night Combat', 'playtime_2weeks': 0, 'playtime_forever': 573},\n",
       "       {'item_id': '99810', 'item_name': 'Bulletstorm', 'playtime_2weeks': 0, 'playtime_forever': 2},\n",
       "       {'item_id': '620', 'item_name': 'Portal 2', 'playtime_2weeks': 0, 'playtime_forever': 887},\n",
       "       {'item_id': '42910', 'item_name': 'Magicka', 'playtime_2weeks': 0, 'playtime_forever': 588},\n",
       "       {'item_id': '15500', 'item_name': 'The Wonderful End of the World', 'playtime_2weeks': 0, 'playtime_forever': 0},\n",
       "       {'item_id': '15540', 'item_name': '1... 2... 3... KICK IT! (Drop That Beat Like an Ugly Baby)', 'playtime_2weeks': 0, 'playtime_forever': 4},\n",
       "       {'item_id': '18500', 'item_name': 'Defense Grid: The Awakening', 'playtime_2weeks': 0, 'playtime_forever': 126},\n",
       "       {'item_id': '26500', 'item_name': 'Cogs', 'playtime_2weeks': 0, 'playtime_forever': 0},\n",
       "       {'item_id': '35460', 'item_name': 'The Ball', 'playtime_2weeks': 0, 'playtime_forever': 0},\n",
       "       {'item_id': '38700', 'item_name': 'Toki Tori', 'playtime_2weeks': 0, 'playtime_forever': 0},\n",
       "       {'item_id': '38720', 'item_name': 'RUSH', 'playtime_2weeks': 0, 'playtime_forever': 0},\n",
       "       {'item_id': '63700', 'item_name': 'BIT.TRIP BEAT', 'playtime_2weeks': 0, 'playtime_forever': 0},\n",
       "       {'item_id': '280', 'item_name': 'Half-Life: Source', 'playtime_2weeks': 0, 'playtime_forever': 0},\n",
       "       {'item_id': '20920', 'item_name': 'The Witcher 2: Assassins of Kings Enhanced Edition', 'playtime_2weeks': 0, 'playtime_forever': 1343},\n",
       "       {'item_id': '105600', 'item_name': 'Terraria', 'playtime_2weeks': 0, 'playtime_forever': 772},\n",
       "       {'item_id': '98200', 'item_name': 'Frozen Synapse', 'playtime_2weeks': 0, 'playtime_forever': 9},\n",
       "       {'item_id': '4500', 'item_name': 'S.T.A.L.K.E.R.: Shadow of Chernobyl', 'playtime_2weeks': 0, 'playtime_forever': 0},\n",
       "       {'item_id': '4540', 'item_name': 'Titan Quest', 'playtime_2weeks': 0, 'playtime_forever': 3},\n",
       "       {'item_id': '4550', 'item_name': 'Titan Quest: Immortal Throne', 'playtime_2weeks': 0, 'playtime_forever': 76},\n",
       "       {'item_id': '9480', 'item_name': 'Saints Row 2', 'playtime_2weeks': 0, 'playtime_forever': 0},\n",
       "       {'item_id': '15620', 'item_name': 'Warhammer® 40,000™: Dawn of War® II', 'playtime_2weeks': 0, 'playtime_forever': 2085},\n",
       "       {'item_id': '20500', 'item_name': 'Red Faction: Guerrilla Steam Edition', 'playtime_2weeks': 0, 'playtime_forever': 0},\n",
       "       {'item_id': '20570', 'item_name': 'Warhammer® 40,000™: Dawn of War® II - Chaos Rising™', 'playtime_2weeks': 0, 'playtime_forever': 69},\n",
       "       {'item_id': '50620', 'item_name': 'Darksiders', 'playtime_2weeks': 0, 'playtime_forever': 101},\n",
       "       {'item_id': '55100', 'item_name': 'Homefront', 'playtime_2weeks': 0, 'playtime_forever': 51},\n",
       "       {'item_id': '55140', 'item_name': 'MX vs. ATV Reflex', 'playtime_2weeks': 0, 'playtime_forever': 0},\n",
       "       {'item_id': '56400', 'item_name': 'Warhammer® 40,000™: Dawn of War® II – Retribution™', 'playtime_2weeks': 0, 'playtime_forever': 678},\n",
       "       {'item_id': '475150', 'item_name': 'Titan Quest Anniversary Edition', 'playtime_2weeks': 0, 'playtime_forever': 0},\n",
       "       {'item_id': '96100', 'item_name': 'Defy Gravity', 'playtime_2weeks': 0, 'playtime_forever': 9},\n",
       "       {'item_id': '35450', 'item_name': 'Rising Storm/Red Orchestra 2 Multiplayer', 'playtime_2weeks': 0, 'playtime_forever': 14194},\n",
       "       {'item_id': '236830', 'item_name': 'Red Orchestra 2: Heroes of Stalingrad - Single Player', 'playtime_2weeks': 0, 'playtime_forever': 0},\n",
       "       {'item_id': '72850', 'item_name': 'The Elder Scrolls V: Skyrim', 'playtime_2weeks': 0, 'playtime_forever': 2512},\n",
       "       {'item_id': '107100', 'item_name': 'Bastion', 'playtime_2weeks': 0, 'playtime_forever': 640},\n",
       "       {'item_id': '57690', 'item_name': 'Tropico 4', 'playtime_2weeks': 0, 'playtime_forever': 1815},\n",
       "       {'item_id': '91310', 'item_name': 'Dead Island', 'playtime_2weeks': 0, 'playtime_forever': 2078},\n",
       "       {'item_id': '113200', 'item_name': 'The Binding of Isaac', 'playtime_2weeks': 0, 'playtime_forever': 1494},\n",
       "       {'item_id': '65800', 'item_name': 'Dungeon Defenders', 'playtime_2weeks': 0, 'playtime_forever': 130},\n",
       "       {'item_id': '9200', 'item_name': 'RAGE', 'playtime_2weeks': 0, 'playtime_forever': 653},\n",
       "       {'item_id': '41070', 'item_name': 'Serious Sam 3: BFE', 'playtime_2weeks': 0, 'playtime_forever': 716},\n",
       "       {'item_id': '48950', 'item_name': 'Greed Corp', 'playtime_2weeks': 0, 'playtime_forever': 72},\n",
       "       {'item_id': '92800', 'item_name': 'SpaceChem', 'playtime_2weeks': 0, 'playtime_forever': 262},\n",
       "       {'item_id': '104700', 'item_name': 'Super Monday Night Combat', 'playtime_2weeks': 0, 'playtime_forever': 44},\n",
       "       {'item_id': '203770', 'item_name': 'Crusader Kings II', 'playtime_2weeks': 0, 'playtime_forever': 18},\n",
       "       {'item_id': '203810', 'item_name': 'Dear Esther', 'playtime_2weeks': 0, 'playtime_forever': 86},\n",
       "       {'item_id': '110800', 'item_name': 'L.A. Noire', 'playtime_2weeks': 0, 'playtime_forever': 1204},\n",
       "       {'item_id': '207610', 'item_name': 'The Walking Dead', 'playtime_2weeks': 0, 'playtime_forever': 798},\n",
       "       {'item_id': '98300', 'item_name': 'Toy Soldiers', 'playtime_2weeks': 0, 'playtime_forever': 110},\n",
       "       {'item_id': '50300', 'item_name': 'Spec Ops: The Line', 'playtime_2weeks': 0, 'playtime_forever': 296},\n",
       "       {'item_id': '204300', 'item_name': 'Awesomenauts', 'playtime_2weeks': 0, 'playtime_forever': 0},\n",
       "       {'item_id': '1700', 'item_name': 'Arx Fatalis', 'playtime_2weeks': 0, 'playtime_forever': 0},\n",
       "       {'item_id': '205100', 'item_name': 'Dishonored', 'playtime_2weeks': 0, 'playtime_forever': 1429},\n",
       "       {'item_id': '211120', 'item_name': 'The Political Machine', 'playtime_2weeks': 0, 'playtime_forever': 1},\n",
       "       {'item_id': '730', 'item_name': 'Counter-Strike: Global Offensive', 'playtime_2weeks': 0, 'playtime_forever': 23532},\n",
       "       {'item_id': '49520', 'item_name': 'Borderlands 2', 'playtime_2weeks': 0, 'playtime_forever': 1303},\n",
       "       {'item_id': '200260', 'item_name': 'Batman: Arkham City GOTY', 'playtime_2weeks': 0, 'playtime_forever': 100},\n",
       "       {'item_id': '212680', 'item_name': 'FTL: Faster Than Light', 'playtime_2weeks': 0, 'playtime_forever': 500},\n",
       "       {'item_id': '200710', 'item_name': 'Torchlight II', 'playtime_2weeks': 0, 'playtime_forever': 459},\n",
       "       {'item_id': '219150', 'item_name': 'Hotline Miami', 'playtime_2weeks': 0, 'playtime_forever': 0},\n",
       "       {'item_id': '215510', 'item_name': 'Rocketbirds: Hardboiled Chicken', 'playtime_2weeks': 0, 'playtime_forever': 0},\n",
       "       {'item_id': '8870', 'item_name': 'BioShock Infinite', 'playtime_2weeks': 0, 'playtime_forever': 2084},\n",
       "       {'item_id': '200510', 'item_name': 'XCOM: Enemy Unknown', 'playtime_2weeks': 0, 'playtime_forever': 3478},\n",
       "       {'item_id': '220240', 'item_name': 'Far Cry® 3', 'playtime_2weeks': 0, 'playtime_forever': 182},\n",
       "       {'item_id': '218680', 'item_name': 'Scribblenauts Unlimited', 'playtime_2weeks': 0, 'playtime_forever': 0},\n",
       "       {'item_id': '228280', 'item_name': \"Baldur's Gate: Enhanced Edition\", 'playtime_2weeks': 0, 'playtime_forever': 905},\n",
       "       {'item_id': '212070', 'item_name': 'Star Conflict', 'playtime_2weeks': 0, 'playtime_forever': 0},\n",
       "       {'item_id': '218230', 'item_name': 'PlanetSide 2', 'playtime_2weeks': 0, 'playtime_forever': 51},\n",
       "       {'item_id': '236390', 'item_name': 'War Thunder', 'playtime_2weeks': 0, 'playtime_forever': 50},\n",
       "       {'item_id': '3483', 'item_name': 'Peggle Extreme', 'playtime_2weeks': 0, 'playtime_forever': 0},\n",
       "       {'item_id': '203160', 'item_name': 'Tomb Raider', 'playtime_2weeks': 0, 'playtime_forever': 0},\n",
       "       {'item_id': '227080', 'item_name': 'Papo & Yo', 'playtime_2weeks': 0, 'playtime_forever': 81},\n",
       "       {'item_id': '233450', 'item_name': 'Prison Architect', 'playtime_2weeks': 0, 'playtime_forever': 24},\n",
       "       {'item_id': '43160', 'item_name': 'Metro: Last Light', 'playtime_2weeks': 0, 'playtime_forever': 712},\n",
       "       {'item_id': '219740', 'item_name': \"Don't Starve\", 'playtime_2weeks': 0, 'playtime_forever': 139},\n",
       "       {'item_id': '322330', 'item_name': \"Don't Starve Together\", 'playtime_2weeks': 0, 'playtime_forever': 0},\n",
       "       {'item_id': '222730', 'item_name': 'Reus', 'playtime_2weeks': 0, 'playtime_forever': 319},\n",
       "       {'item_id': '241600', 'item_name': 'Rogue Legacy', 'playtime_2weeks': 0, 'playtime_forever': 73},\n",
       "       {'item_id': '238930', 'item_name': '7 Grand Steps, Step 1: What Ancients Begat', 'playtime_2weeks': 0, 'playtime_forever': 159},\n",
       "       {'item_id': '217140', 'item_name': 'Rise of the Triad', 'playtime_2weeks': 0, 'playtime_forever': 199},\n",
       "       {'item_id': '39140', 'item_name': 'FINAL FANTASY VII', 'playtime_2weeks': 0, 'playtime_forever': 2896},\n",
       "       {'item_id': '225080', 'item_name': 'Brothers - A Tale of Two Sons', 'playtime_2weeks': 0, 'playtime_forever': 0},\n",
       "       {'item_id': '239030', 'item_name': 'Papers, Please', 'playtime_2weeks': 0, 'playtime_forever': 194},\n",
       "       {'item_id': '248820', 'item_name': 'Risk of Rain', 'playtime_2weeks': 0, 'playtime_forever': 272},\n",
       "       {'item_id': '239350', 'item_name': 'Spelunky', 'playtime_2weeks': 0, 'playtime_forever': 458},\n",
       "       {'item_id': '218620', 'item_name': 'PAYDAY 2', 'playtime_2weeks': 0, 'playtime_forever': 574},\n",
       "       {'item_id': '206420', 'item_name': 'Saints Row IV', 'playtime_2weeks': 0, 'playtime_forever': 0},\n",
       "       {'item_id': '236850', 'item_name': 'Europa Universalis IV', 'playtime_2weeks': 0, 'playtime_forever': 89},\n",
       "       {'item_id': '47790', 'item_name': 'Medal of Honor(TM) Single Player', 'playtime_2weeks': 0, 'playtime_forever': 230},\n",
       "       {'item_id': '47830', 'item_name': 'Medal of Honor(TM) Multiplayer', 'playtime_2weeks': 0, 'playtime_forever': 0},\n",
       "       {'item_id': '250320', 'item_name': 'The Wolf Among Us', 'playtime_2weeks': 0, 'playtime_forever': 500},\n",
       "       {'item_id': '250900', 'item_name': 'The Binding of Isaac: Rebirth', 'playtime_2weeks': 0, 'playtime_forever': 329},\n",
       "       {'item_id': '204450', 'item_name': 'Call of Juarez Gunslinger', 'playtime_2weeks': 0, 'playtime_forever': 241},\n",
       "       {'item_id': '233270', 'item_name': 'Far Cry® 3 Blood Dragon', 'playtime_2weeks': 0, 'playtime_forever': 0},\n",
       "       {'item_id': '251990', 'item_name': 'Long Live The Queen', 'playtime_2weeks': 0, 'playtime_forever': 135},\n",
       "       {'item_id': '253980', 'item_name': 'Enclave', 'playtime_2weeks': 0, 'playtime_forever': 0},\n",
       "       {'item_id': '236450', 'item_name': 'PAC-MAN Championship Edition DX+', 'playtime_2weeks': 0, 'playtime_forever': 154},\n",
       "       {'item_id': '242050', 'item_name': \"Assassin's Creed IV Black Flag\", 'playtime_2weeks': 0, 'playtime_forever': 1377},\n",
       "       {'item_id': '257350', 'item_name': \"Baldur's Gate II: Enhanced Edition\", 'playtime_2weeks': 0, 'playtime_forever': 0},\n",
       "       {'item_id': '213670', 'item_name': 'South Park™: The Stick of Truth™', 'playtime_2weeks': 0, 'playtime_forever': 121},\n",
       "       {'item_id': '238010', 'item_name': \"Deus Ex: Human Revolution - Director's Cut\", 'playtime_2weeks': 0, 'playtime_forever': 2176},\n",
       "       {'item_id': '245470', 'item_name': 'Democracy 3', 'playtime_2weeks': 0, 'playtime_forever': 246},\n",
       "       {'item_id': '221910', 'item_name': 'The Stanley Parable', 'playtime_2weeks': 0, 'playtime_forever': 157},\n",
       "       {'item_id': '260230', 'item_name': 'Valiant Hearts: The Great War™ / Soldats Inconnus : Mémoires de la Grande Guerre™', 'playtime_2weeks': 0, 'playtime_forever': 467},\n",
       "       {'item_id': '238430', 'item_name': 'Contagion', 'playtime_2weeks': 0, 'playtime_forever': 77},\n",
       "       {'item_id': '261030', 'item_name': 'The Walking Dead: Season Two', 'playtime_2weeks': 0, 'playtime_forever': 567},\n",
       "       {'item_id': '261570', 'item_name': 'Ori and the Blind Forest', 'playtime_2weeks': 0, 'playtime_forever': 39},\n",
       "       {'item_id': '263980', 'item_name': 'Out There Somewhere', 'playtime_2weeks': 0, 'playtime_forever': 0},\n",
       "       {'item_id': '39150', 'item_name': 'FINAL FANTASY VIII', 'playtime_2weeks': 0, 'playtime_forever': 15},\n",
       "       {'item_id': '230230', 'item_name': 'Divinity: Original Sin (Classic)', 'playtime_2weeks': 0, 'playtime_forever': 522},\n",
       "       {'item_id': '373420', 'item_name': 'Divinity: Original Sin Enhanced Edition', 'playtime_2weeks': 0, 'playtime_forever': 0},\n",
       "       {'item_id': '232790', 'item_name': 'Broken Age', 'playtime_2weeks': 0, 'playtime_forever': 216},\n",
       "       {'item_id': '237990', 'item_name': 'The Banner Saga', 'playtime_2weeks': 0, 'playtime_forever': 19},\n",
       "       {'item_id': '273620', 'item_name': 'Freespace 2', 'playtime_2weeks': 0, 'playtime_forever': 848},\n",
       "       {'item_id': '222880', 'item_name': 'Insurgency', 'playtime_2weeks': 0, 'playtime_forever': 3031},\n",
       "       {'item_id': '225840', 'item_name': 'Sven Co-op', 'playtime_2weeks': 0, 'playtime_forever': 26},\n",
       "       {'item_id': '222900', 'item_name': 'Dead Island: Epidemic', 'playtime_2weeks': 0, 'playtime_forever': 0},\n",
       "       {'item_id': '280220', 'item_name': 'Creeper World 3: Arc Eternal', 'playtime_2weeks': 0, 'playtime_forever': 941},\n",
       "       {'item_id': '236430', 'item_name': 'DARK SOULS™ II', 'playtime_2weeks': 0, 'playtime_forever': 592},\n",
       "       {'item_id': '201810', 'item_name': 'Wolfenstein: The New Order', 'playtime_2weeks': 0, 'playtime_forever': 599},\n",
       "       {'item_id': '294860', 'item_name': 'Valkyria Chronicles™', 'playtime_2weeks': 0, 'playtime_forever': 1735},\n",
       "       {'item_id': '295690', 'item_name': 'PARTICLE MACE', 'playtime_2weeks': 0, 'playtime_forever': 0},\n",
       "       {'item_id': '238460', 'item_name': 'BattleBlock Theater', 'playtime_2weeks': 0, 'playtime_forever': 407},\n",
       "       {'item_id': '237930', 'item_name': 'Transistor', 'playtime_2weeks': 0, 'playtime_forever': 154},\n",
       "       {'item_id': '301480', 'item_name': 'GEARCRACK Arena', 'playtime_2weeks': 0, 'playtime_forever': 0},\n",
       "       {'item_id': '303390', 'item_name': 'Dead Bits', 'playtime_2weeks': 0, 'playtime_forever': 0},\n",
       "       {'item_id': '306660', 'item_name': 'Ultimate General: Gettysburg', 'playtime_2weeks': 0, 'playtime_forever': 1245},\n",
       "       {'item_id': '316790', 'item_name': 'Grim Fandango Remastered', 'playtime_2weeks': 0, 'playtime_forever': 42},\n",
       "       {'item_id': '318430', 'item_name': 'Squishy the Suicidal Pig', 'playtime_2weeks': 0, 'playtime_forever': 0},\n",
       "       {'item_id': '241930', 'item_name': 'Middle-earth: Shadow of Mordor', 'playtime_2weeks': 0, 'playtime_forever': 889},\n",
       "       {'item_id': '328080', 'item_name': 'Retro-Pixel Castles', 'playtime_2weeks': 0, 'playtime_forever': 5},\n",
       "       {'item_id': '282070', 'item_name': 'This War of Mine', 'playtime_2weeks': 0, 'playtime_forever': 3},\n",
       "       {'item_id': '333930', 'item_name': 'Dirty Bomb', 'playtime_2weeks': 0, 'playtime_forever': 2782},\n",
       "       {'item_id': '334120', 'item_name': 'Armikrog', 'playtime_2weeks': 0, 'playtime_forever': 109},\n",
       "       {'item_id': '257510', 'item_name': 'The Talos Principle', 'playtime_2weeks': 0, 'playtime_forever': 0},\n",
       "       {'item_id': '319630', 'item_name': 'Life Is Strange™', 'playtime_2weeks': 0, 'playtime_forever': 37},\n",
       "       {'item_id': '346010', 'item_name': 'Besiege', 'playtime_2weeks': 0, 'playtime_forever': 464},\n",
       "       {'item_id': '255710', 'item_name': 'Cities: Skylines', 'playtime_2weeks': 0, 'playtime_forever': 246},\n",
       "       {'item_id': '232090', 'item_name': 'Killing Floor 2', 'playtime_2weeks': 0, 'playtime_forever': 6494},\n",
       "       {'item_id': '232150', 'item_name': 'Killing Floor 2 - SDK', 'playtime_2weeks': 0, 'playtime_forever': 0},\n",
       "       {'item_id': '377160', 'item_name': 'Fallout 4', 'playtime_2weeks': 0, 'playtime_forever': 2001},\n",
       "       {'item_id': '340170', 'item_name': 'FINAL FANTASY TYPE-0 HD', 'playtime_2weeks': 0, 'playtime_forever': 170},\n",
       "       {'item_id': '391540', 'item_name': 'Undertale', 'playtime_2weeks': 0, 'playtime_forever': 395},\n",
       "       {'item_id': '396660', 'item_name': 'Tahira: Echoes of the Astral Empire', 'playtime_2weeks': 0, 'playtime_forever': 0},\n",
       "       {'item_id': '337000', 'item_name': 'Deus Ex: Mankind Divided™', 'playtime_2weeks': 0, 'playtime_forever': 1159},\n",
       "       {'item_id': '368230', 'item_name': 'Kingdom: Classic', 'playtime_2weeks': 0, 'playtime_forever': 83},\n",
       "       {'item_id': '496300', 'item_name': 'Kingdom: New Lands', 'playtime_2weeks': 0, 'playtime_forever': 0},\n",
       "       {'item_id': '231430', 'item_name': 'Company of Heroes 2', 'playtime_2weeks': 0, 'playtime_forever': 0},\n",
       "       {'item_id': '289130', 'item_name': 'Endless Legend', 'playtime_2weeks': 0, 'playtime_forever': 593},\n",
       "       {'item_id': '268500', 'item_name': 'XCOM 2', 'playtime_2weeks': 0, 'playtime_forever': 1495},\n",
       "       {'item_id': '461640', 'item_name': 'Sins Of The Demon RPG', 'playtime_2weeks': 0, 'playtime_forever': 0},\n",
       "       {'item_id': '379720', 'item_name': 'DOOM', 'playtime_2weeks': 0, 'playtime_forever': 793},\n",
       "       {'item_id': '273350', 'item_name': 'Evolve Stage 2', 'playtime_2weeks': 0, 'playtime_forever': 58}],\n",
       "      dtype=object)"
      ]
     },
     "execution_count": 62,
     "metadata": {},
     "output_type": "execute_result"
    }
   ],
   "source": [
    "items.loc[0,'items']"
   ]
  },
  {
   "cell_type": "code",
   "execution_count": 63,
   "metadata": {},
   "outputs": [
    {
     "name": "stdout",
     "output_type": "stream",
     "text": [
      "La cantidad de filas son: 88310 y columnas son: 5\n"
     ]
    }
   ],
   "source": [
    "print(f\"La cantidad de filas son: {items.shape[0]} y columnas son: {items.shape[1]}\")"
   ]
  },
  {
   "cell_type": "code",
   "execution_count": 65,
   "metadata": {},
   "outputs": [
    {
     "name": "stdout",
     "output_type": "stream",
     "text": [
      "<class 'pandas.core.frame.DataFrame'>\n",
      "RangeIndex: 88310 entries, 0 to 88309\n",
      "Data columns (total 5 columns):\n",
      " #   Column       Non-Null Count  Dtype \n",
      "---  ------       --------------  ----- \n",
      " 0   user_id      88310 non-null  object\n",
      " 1   items_count  88310 non-null  int64 \n",
      " 2   steam_id     88310 non-null  int64 \n",
      " 3   user_url     88310 non-null  object\n",
      " 4   items        88310 non-null  object\n",
      "dtypes: int64(2), object(3)\n",
      "memory usage: 3.4+ MB\n"
     ]
    }
   ],
   "source": [
    "items.info()"
   ]
  },
  {
   "cell_type": "markdown",
   "metadata": {},
   "source": [
    "Notamos el maximo muy elevado que puede ser un outliers, vemos su distribución graficamente:"
   ]
  },
  {
   "cell_type": "code",
   "execution_count": 66,
   "metadata": {},
   "outputs": [
    {
     "data": {
      "image/png": "[encoded data removed]",
      "text/plain": [
       "<Figure size 640x480 with 1 Axes>"
      ]
     },
     "metadata": {},
     "output_type": "display_data"
    }
   ],
   "source": [
    "sns.boxenplot(x=items['items_count'])\n",
    "plt.xlabel('Cantidad items')\n",
    "plt.title('Outliers de la cantidad de items por usuarios')\n",
    "plt.show()"
   ]
  },
  {
   "cell_type": "markdown",
   "metadata": {},
   "source": [
    "La mayoria de los valores se encuentran por debajo de los 1000 items. Usamos la regla de los 3 sigmas para entontrar la cantidad de valores outliers muy extremos:"
   ]
  },
  {
   "cell_type": "code",
   "execution_count": 67,
   "metadata": {},
   "outputs": [
    {
     "name": "stdout",
     "output_type": "stream",
     "text": [
      "Los conciderados outliers extremos segun la regla de las 3 sigma son: 933\n"
     ]
    }
   ],
   "source": [
    "# Regla de los 3 sigmas:\n",
    "\n",
    "cantidad_items_promedio = items['items_count'].mean()\n",
    "deviacion_estandar_cantidad_items = items['items_count'].std()\n",
    "limite_superior = cantidad_items_promedio + 3 * deviacion_estandar_cantidad_items\n",
    "limite_inferior = cantidad_items_promedio - 3 * deviacion_estandar_cantidad_items\n",
    "\n",
    "cantidad_outliers = len(items['items_count'][(items['items_count'] > limite_superior) | (items['items_count'] < limite_inferior)])\n",
    "\n",
    "print(f\"Los conciderados outliers extremos segun la regla de las 3 sigma son: {cantidad_outliers}\")"
   ]
  },
  {
   "cell_type": "markdown",
   "metadata": {},
   "source": [
    "Estos valores outliers extremos sacaremos para tener un dataset field a la realidad. Ahora vemos los valores duplicados sin tener en cuenta la columna anidada 'items':"
   ]
  },
  {
   "cell_type": "code",
   "execution_count": 68,
   "metadata": {},
   "outputs": [
    {
     "name": "stdout",
     "output_type": "stream",
     "text": [
      "La cantidad de duplicados sin desanidar son: 684\n"
     ]
    }
   ],
   "source": [
    "duplicados_user_items = items[['user_id', 'items_count', 'steam_id', 'user_url']].duplicated().sum()\n",
    "print(f\"La cantidad de duplicados sin desanidar son: {duplicados_user_items}\")"
   ]
  }
 ],
 "metadata": {
  "kernelspec": {
   "display_name": "Python 3",
   "language": "python",
   "name": "python3"
  },
  "language_info": {
   "codemirror_mode": {
    "name": "ipython",
    "version": 3
   },
   "file_extension": ".py",
   "mimetype": "text/x-python",
   "name": "python",
   "nbconvert_exporter": "python",
   "pygments_lexer": "ipython3",
   "version": "3.12.0"
  }
 },
 "nbformat": 4,
 "nbformat_minor": 2
}
